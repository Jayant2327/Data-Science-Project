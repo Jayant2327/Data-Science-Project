{
 "cells": [
  {
   "cell_type": "code",
   "execution_count": 141,
   "id": "f8067d55",
   "metadata": {},
   "outputs": [],
   "source": [
    "import numpy as np\n",
    "import pandas as pd\n",
    "import matplotlib.pyplot as plt\n",
    "import seaborn as sns\n",
    "\n",
    "import random\n",
    "from sklearn.preprocessing import MinMaxScaler\n",
    "from sklearn.model_selection import train_test_split\n",
    "\n",
    "from sklearn.metrics import accuracy_score, classification_report, confusion_matrix\n",
    "\n",
    "from sklearn.decomposition import PCA\n",
    "from sklearn.neighbors import KNeighborsClassifier\n",
    "\n",
    "\n",
    "\n",
    "from collections import Counter\n",
    "\n",
    "from imblearn.over_sampling import SMOTE\n",
    "from sklearn import metrics\n",
    "\n",
    "# for Machine learning\n",
    "from sklearn.linear_model import LogisticRegression\n",
    "from sklearn.tree import DecisionTreeClassifier\n",
    "from sklearn.tree import DecisionTreeRegressor\n",
    "from sklearn.svm import SVC\n",
    "from sklearn.ensemble import RandomForestClassifier\n",
    "\n",
    "import pickle\n",
    "\n",
    "# To ignore unwanted warnings\n",
    "import warnings\n",
    "warnings.filterwarnings('ignore')\n",
    "\n",
    "# for styling\n",
    "plt.style.use('seaborn-whitegrid')\n"
   ]
  },
  {
   "cell_type": "code",
   "execution_count": 3,
   "id": "af9bc64f",
   "metadata": {},
   "outputs": [],
   "source": [
    "data=pd.read_csv('diabetes_prediction_dataset.csv')"
   ]
  },
  {
   "cell_type": "markdown",
   "id": "22f421f3",
   "metadata": {},
   "source": [
    "Summery of Data"
   ]
  },
  {
   "cell_type": "code",
   "execution_count": 4,
   "id": "9032d9de",
   "metadata": {},
   "outputs": [
    {
     "data": {
      "text/plain": [
       "(100000, 9)"
      ]
     },
     "execution_count": 4,
     "metadata": {},
     "output_type": "execute_result"
    }
   ],
   "source": [
    "data.shape"
   ]
  },
  {
   "cell_type": "code",
   "execution_count": 5,
   "id": "1463e8a6",
   "metadata": {},
   "outputs": [
    {
     "data": {
      "text/plain": [
       "Index(['gender', 'age', 'hypertension', 'heart_disease', 'smoking_history',\n",
       "       'bmi', 'HbA1c_level', 'blood_glucose_level', 'diabetes'],\n",
       "      dtype='object')"
      ]
     },
     "execution_count": 5,
     "metadata": {},
     "output_type": "execute_result"
    }
   ],
   "source": [
    "data.columns"
   ]
  },
  {
   "cell_type": "code",
   "execution_count": 6,
   "id": "d9094ab4",
   "metadata": {},
   "outputs": [
    {
     "data": {
      "text/html": [
       "<div>\n",
       "<style scoped>\n",
       "    .dataframe tbody tr th:only-of-type {\n",
       "        vertical-align: middle;\n",
       "    }\n",
       "\n",
       "    .dataframe tbody tr th {\n",
       "        vertical-align: top;\n",
       "    }\n",
       "\n",
       "    .dataframe thead th {\n",
       "        text-align: right;\n",
       "    }\n",
       "</style>\n",
       "<table border=\"1\" class=\"dataframe\">\n",
       "  <thead>\n",
       "    <tr style=\"text-align: right;\">\n",
       "      <th></th>\n",
       "      <th>gender</th>\n",
       "      <th>age</th>\n",
       "      <th>hypertension</th>\n",
       "      <th>heart_disease</th>\n",
       "      <th>smoking_history</th>\n",
       "      <th>bmi</th>\n",
       "      <th>HbA1c_level</th>\n",
       "      <th>blood_glucose_level</th>\n",
       "      <th>diabetes</th>\n",
       "    </tr>\n",
       "  </thead>\n",
       "  <tbody>\n",
       "    <tr>\n",
       "      <th>79611</th>\n",
       "      <td>Female</td>\n",
       "      <td>78.0</td>\n",
       "      <td>0</td>\n",
       "      <td>0</td>\n",
       "      <td>never</td>\n",
       "      <td>26.53</td>\n",
       "      <td>5.0</td>\n",
       "      <td>85</td>\n",
       "      <td>0</td>\n",
       "    </tr>\n",
       "    <tr>\n",
       "      <th>18753</th>\n",
       "      <td>Female</td>\n",
       "      <td>43.0</td>\n",
       "      <td>0</td>\n",
       "      <td>0</td>\n",
       "      <td>No Info</td>\n",
       "      <td>27.32</td>\n",
       "      <td>9.0</td>\n",
       "      <td>240</td>\n",
       "      <td>1</td>\n",
       "    </tr>\n",
       "    <tr>\n",
       "      <th>55647</th>\n",
       "      <td>Female</td>\n",
       "      <td>52.0</td>\n",
       "      <td>0</td>\n",
       "      <td>0</td>\n",
       "      <td>never</td>\n",
       "      <td>27.32</td>\n",
       "      <td>6.1</td>\n",
       "      <td>130</td>\n",
       "      <td>0</td>\n",
       "    </tr>\n",
       "    <tr>\n",
       "      <th>96766</th>\n",
       "      <td>Female</td>\n",
       "      <td>70.0</td>\n",
       "      <td>0</td>\n",
       "      <td>0</td>\n",
       "      <td>No Info</td>\n",
       "      <td>22.90</td>\n",
       "      <td>6.5</td>\n",
       "      <td>158</td>\n",
       "      <td>0</td>\n",
       "    </tr>\n",
       "    <tr>\n",
       "      <th>14108</th>\n",
       "      <td>Male</td>\n",
       "      <td>68.0</td>\n",
       "      <td>0</td>\n",
       "      <td>0</td>\n",
       "      <td>No Info</td>\n",
       "      <td>31.05</td>\n",
       "      <td>4.0</td>\n",
       "      <td>200</td>\n",
       "      <td>0</td>\n",
       "    </tr>\n",
       "    <tr>\n",
       "      <th>68483</th>\n",
       "      <td>Female</td>\n",
       "      <td>50.0</td>\n",
       "      <td>0</td>\n",
       "      <td>0</td>\n",
       "      <td>former</td>\n",
       "      <td>31.95</td>\n",
       "      <td>4.0</td>\n",
       "      <td>159</td>\n",
       "      <td>0</td>\n",
       "    </tr>\n",
       "    <tr>\n",
       "      <th>13808</th>\n",
       "      <td>Male</td>\n",
       "      <td>51.0</td>\n",
       "      <td>0</td>\n",
       "      <td>0</td>\n",
       "      <td>No Info</td>\n",
       "      <td>24.05</td>\n",
       "      <td>4.8</td>\n",
       "      <td>140</td>\n",
       "      <td>0</td>\n",
       "    </tr>\n",
       "    <tr>\n",
       "      <th>96126</th>\n",
       "      <td>Male</td>\n",
       "      <td>79.0</td>\n",
       "      <td>0</td>\n",
       "      <td>0</td>\n",
       "      <td>No Info</td>\n",
       "      <td>27.32</td>\n",
       "      <td>6.0</td>\n",
       "      <td>130</td>\n",
       "      <td>0</td>\n",
       "    </tr>\n",
       "    <tr>\n",
       "      <th>64862</th>\n",
       "      <td>Male</td>\n",
       "      <td>56.0</td>\n",
       "      <td>0</td>\n",
       "      <td>0</td>\n",
       "      <td>never</td>\n",
       "      <td>29.43</td>\n",
       "      <td>6.5</td>\n",
       "      <td>126</td>\n",
       "      <td>0</td>\n",
       "    </tr>\n",
       "    <tr>\n",
       "      <th>12711</th>\n",
       "      <td>Male</td>\n",
       "      <td>7.0</td>\n",
       "      <td>0</td>\n",
       "      <td>0</td>\n",
       "      <td>No Info</td>\n",
       "      <td>18.35</td>\n",
       "      <td>5.7</td>\n",
       "      <td>145</td>\n",
       "      <td>0</td>\n",
       "    </tr>\n",
       "  </tbody>\n",
       "</table>\n",
       "</div>"
      ],
      "text/plain": [
       "       gender   age  hypertension  heart_disease smoking_history    bmi  \\\n",
       "79611  Female  78.0             0              0           never  26.53   \n",
       "18753  Female  43.0             0              0         No Info  27.32   \n",
       "55647  Female  52.0             0              0           never  27.32   \n",
       "96766  Female  70.0             0              0         No Info  22.90   \n",
       "14108    Male  68.0             0              0         No Info  31.05   \n",
       "68483  Female  50.0             0              0          former  31.95   \n",
       "13808    Male  51.0             0              0         No Info  24.05   \n",
       "96126    Male  79.0             0              0         No Info  27.32   \n",
       "64862    Male  56.0             0              0           never  29.43   \n",
       "12711    Male   7.0             0              0         No Info  18.35   \n",
       "\n",
       "       HbA1c_level  blood_glucose_level  diabetes  \n",
       "79611          5.0                   85         0  \n",
       "18753          9.0                  240         1  \n",
       "55647          6.1                  130         0  \n",
       "96766          6.5                  158         0  \n",
       "14108          4.0                  200         0  \n",
       "68483          4.0                  159         0  \n",
       "13808          4.8                  140         0  \n",
       "96126          6.0                  130         0  \n",
       "64862          6.5                  126         0  \n",
       "12711          5.7                  145         0  "
      ]
     },
     "execution_count": 6,
     "metadata": {},
     "output_type": "execute_result"
    }
   ],
   "source": [
    "data.sample(10)"
   ]
  },
  {
   "cell_type": "code",
   "execution_count": 7,
   "id": "d277e704",
   "metadata": {},
   "outputs": [
    {
     "name": "stdout",
     "output_type": "stream",
     "text": [
      "<class 'pandas.core.frame.DataFrame'>\n",
      "RangeIndex: 100000 entries, 0 to 99999\n",
      "Data columns (total 9 columns):\n",
      " #   Column               Non-Null Count   Dtype  \n",
      "---  ------               --------------   -----  \n",
      " 0   gender               100000 non-null  object \n",
      " 1   age                  100000 non-null  float64\n",
      " 2   hypertension         100000 non-null  int64  \n",
      " 3   heart_disease        100000 non-null  int64  \n",
      " 4   smoking_history      100000 non-null  object \n",
      " 5   bmi                  100000 non-null  float64\n",
      " 6   HbA1c_level          100000 non-null  float64\n",
      " 7   blood_glucose_level  100000 non-null  int64  \n",
      " 8   diabetes             100000 non-null  int64  \n",
      "dtypes: float64(3), int64(4), object(2)\n",
      "memory usage: 6.9+ MB\n"
     ]
    }
   ],
   "source": [
    "data.info()"
   ]
  },
  {
   "cell_type": "markdown",
   "id": "f045007b",
   "metadata": {},
   "source": [
    "# Preprocessing of Data"
   ]
  },
  {
   "cell_type": "code",
   "execution_count": 8,
   "id": "2c079ac3",
   "metadata": {},
   "outputs": [
    {
     "data": {
      "text/plain": [
       "gender                 0.0\n",
       "age                    0.0\n",
       "hypertension           0.0\n",
       "heart_disease          0.0\n",
       "smoking_history        0.0\n",
       "bmi                    0.0\n",
       "HbA1c_level            0.0\n",
       "blood_glucose_level    0.0\n",
       "diabetes               0.0\n",
       "dtype: float64"
      ]
     },
     "execution_count": 8,
     "metadata": {},
     "output_type": "execute_result"
    }
   ],
   "source": [
    "#check null values\n",
    "data.isna().mean()*100\n",
    "# data.isnull().sum()/len(data)*100"
   ]
  },
  {
   "cell_type": "markdown",
   "id": "5db14b8b",
   "metadata": {},
   "source": [
    "There is no null value present"
   ]
  },
  {
   "cell_type": "code",
   "execution_count": 9,
   "id": "38b5882c",
   "metadata": {},
   "outputs": [
    {
     "data": {
      "text/plain": [
       "3854"
      ]
     },
     "execution_count": 9,
     "metadata": {},
     "output_type": "execute_result"
    }
   ],
   "source": [
    "data.duplicated().sum()"
   ]
  },
  {
   "cell_type": "code",
   "execution_count": 10,
   "id": "092ccc96",
   "metadata": {},
   "outputs": [],
   "source": [
    "data.drop_duplicates(inplace=True)"
   ]
  },
  {
   "cell_type": "code",
   "execution_count": 11,
   "id": "172fc2d2",
   "metadata": {},
   "outputs": [
    {
     "data": {
      "text/html": [
       "<div>\n",
       "<style scoped>\n",
       "    .dataframe tbody tr th:only-of-type {\n",
       "        vertical-align: middle;\n",
       "    }\n",
       "\n",
       "    .dataframe tbody tr th {\n",
       "        vertical-align: top;\n",
       "    }\n",
       "\n",
       "    .dataframe thead th {\n",
       "        text-align: right;\n",
       "    }\n",
       "</style>\n",
       "<table border=\"1\" class=\"dataframe\">\n",
       "  <thead>\n",
       "    <tr style=\"text-align: right;\">\n",
       "      <th></th>\n",
       "      <th>age</th>\n",
       "      <th>hypertension</th>\n",
       "      <th>heart_disease</th>\n",
       "      <th>bmi</th>\n",
       "      <th>HbA1c_level</th>\n",
       "      <th>blood_glucose_level</th>\n",
       "      <th>diabetes</th>\n",
       "    </tr>\n",
       "  </thead>\n",
       "  <tbody>\n",
       "    <tr>\n",
       "      <th>count</th>\n",
       "      <td>96146.000000</td>\n",
       "      <td>96146.000000</td>\n",
       "      <td>96146.000000</td>\n",
       "      <td>96146.000000</td>\n",
       "      <td>96146.000000</td>\n",
       "      <td>96146.000000</td>\n",
       "      <td>96146.000000</td>\n",
       "    </tr>\n",
       "    <tr>\n",
       "      <th>mean</th>\n",
       "      <td>41.794326</td>\n",
       "      <td>0.077601</td>\n",
       "      <td>0.040803</td>\n",
       "      <td>27.321461</td>\n",
       "      <td>5.532609</td>\n",
       "      <td>138.218231</td>\n",
       "      <td>0.088220</td>\n",
       "    </tr>\n",
       "    <tr>\n",
       "      <th>std</th>\n",
       "      <td>22.462948</td>\n",
       "      <td>0.267544</td>\n",
       "      <td>0.197833</td>\n",
       "      <td>6.767716</td>\n",
       "      <td>1.073232</td>\n",
       "      <td>40.909771</td>\n",
       "      <td>0.283616</td>\n",
       "    </tr>\n",
       "    <tr>\n",
       "      <th>min</th>\n",
       "      <td>0.080000</td>\n",
       "      <td>0.000000</td>\n",
       "      <td>0.000000</td>\n",
       "      <td>10.010000</td>\n",
       "      <td>3.500000</td>\n",
       "      <td>80.000000</td>\n",
       "      <td>0.000000</td>\n",
       "    </tr>\n",
       "    <tr>\n",
       "      <th>25%</th>\n",
       "      <td>24.000000</td>\n",
       "      <td>0.000000</td>\n",
       "      <td>0.000000</td>\n",
       "      <td>23.400000</td>\n",
       "      <td>4.800000</td>\n",
       "      <td>100.000000</td>\n",
       "      <td>0.000000</td>\n",
       "    </tr>\n",
       "    <tr>\n",
       "      <th>50%</th>\n",
       "      <td>43.000000</td>\n",
       "      <td>0.000000</td>\n",
       "      <td>0.000000</td>\n",
       "      <td>27.320000</td>\n",
       "      <td>5.800000</td>\n",
       "      <td>140.000000</td>\n",
       "      <td>0.000000</td>\n",
       "    </tr>\n",
       "    <tr>\n",
       "      <th>75%</th>\n",
       "      <td>59.000000</td>\n",
       "      <td>0.000000</td>\n",
       "      <td>0.000000</td>\n",
       "      <td>29.860000</td>\n",
       "      <td>6.200000</td>\n",
       "      <td>159.000000</td>\n",
       "      <td>0.000000</td>\n",
       "    </tr>\n",
       "    <tr>\n",
       "      <th>max</th>\n",
       "      <td>80.000000</td>\n",
       "      <td>1.000000</td>\n",
       "      <td>1.000000</td>\n",
       "      <td>95.690000</td>\n",
       "      <td>9.000000</td>\n",
       "      <td>300.000000</td>\n",
       "      <td>1.000000</td>\n",
       "    </tr>\n",
       "  </tbody>\n",
       "</table>\n",
       "</div>"
      ],
      "text/plain": [
       "                age  hypertension  heart_disease           bmi   HbA1c_level  \\\n",
       "count  96146.000000  96146.000000   96146.000000  96146.000000  96146.000000   \n",
       "mean      41.794326      0.077601       0.040803     27.321461      5.532609   \n",
       "std       22.462948      0.267544       0.197833      6.767716      1.073232   \n",
       "min        0.080000      0.000000       0.000000     10.010000      3.500000   \n",
       "25%       24.000000      0.000000       0.000000     23.400000      4.800000   \n",
       "50%       43.000000      0.000000       0.000000     27.320000      5.800000   \n",
       "75%       59.000000      0.000000       0.000000     29.860000      6.200000   \n",
       "max       80.000000      1.000000       1.000000     95.690000      9.000000   \n",
       "\n",
       "       blood_glucose_level      diabetes  \n",
       "count         96146.000000  96146.000000  \n",
       "mean            138.218231      0.088220  \n",
       "std              40.909771      0.283616  \n",
       "min              80.000000      0.000000  \n",
       "25%             100.000000      0.000000  \n",
       "50%             140.000000      0.000000  \n",
       "75%             159.000000      0.000000  \n",
       "max             300.000000      1.000000  "
      ]
     },
     "execution_count": 11,
     "metadata": {},
     "output_type": "execute_result"
    }
   ],
   "source": [
    "data.describe()"
   ]
  },
  {
   "cell_type": "code",
   "execution_count": 12,
   "id": "36d046b6",
   "metadata": {},
   "outputs": [
    {
     "data": {
      "text/html": [
       "<div>\n",
       "<style scoped>\n",
       "    .dataframe tbody tr th:only-of-type {\n",
       "        vertical-align: middle;\n",
       "    }\n",
       "\n",
       "    .dataframe tbody tr th {\n",
       "        vertical-align: top;\n",
       "    }\n",
       "\n",
       "    .dataframe thead th {\n",
       "        text-align: right;\n",
       "    }\n",
       "</style>\n",
       "<table border=\"1\" class=\"dataframe\">\n",
       "  <thead>\n",
       "    <tr style=\"text-align: right;\">\n",
       "      <th></th>\n",
       "      <th>gender</th>\n",
       "      <th>smoking_history</th>\n",
       "    </tr>\n",
       "  </thead>\n",
       "  <tbody>\n",
       "    <tr>\n",
       "      <th>count</th>\n",
       "      <td>96146</td>\n",
       "      <td>96146</td>\n",
       "    </tr>\n",
       "    <tr>\n",
       "      <th>unique</th>\n",
       "      <td>3</td>\n",
       "      <td>6</td>\n",
       "    </tr>\n",
       "    <tr>\n",
       "      <th>top</th>\n",
       "      <td>Female</td>\n",
       "      <td>never</td>\n",
       "    </tr>\n",
       "    <tr>\n",
       "      <th>freq</th>\n",
       "      <td>56161</td>\n",
       "      <td>34398</td>\n",
       "    </tr>\n",
       "  </tbody>\n",
       "</table>\n",
       "</div>"
      ],
      "text/plain": [
       "        gender smoking_history\n",
       "count    96146           96146\n",
       "unique       3               6\n",
       "top     Female           never\n",
       "freq     56161           34398"
      ]
     },
     "execution_count": 12,
     "metadata": {},
     "output_type": "execute_result"
    }
   ],
   "source": [
    "data.describe(include='O')"
   ]
  },
  {
   "cell_type": "code",
   "execution_count": 13,
   "id": "539c5fd9",
   "metadata": {},
   "outputs": [
    {
     "name": "stdout",
     "output_type": "stream",
     "text": [
      "gender\n",
      "['Female' 'Male' 'Other'] \n",
      "\n",
      "------------------------------------------------------------\n",
      "smoking_history\n",
      "['never' 'No Info' 'current' 'former' 'ever' 'not current'] \n",
      "\n",
      "------------------------------------------------------------\n"
     ]
    }
   ],
   "source": [
    "for i in data.describe(include='O'):\n",
    "    print(i)\n",
    "    print(data[i].unique(),'\\n')\n",
    "    print('--'*30)"
   ]
  },
  {
   "cell_type": "code",
   "execution_count": 14,
   "id": "def86434",
   "metadata": {
    "scrolled": true
   },
   "outputs": [],
   "source": [
    "#check unique value of columns\n",
    "# for i in data:\n",
    "#     print(i, data[i].unique())"
   ]
  },
  {
   "cell_type": "code",
   "execution_count": 15,
   "id": "e6952fa0",
   "metadata": {},
   "outputs": [],
   "source": [
    "# data['gender']=data['gender'].replace('Other','Female')"
   ]
  },
  {
   "cell_type": "code",
   "execution_count": 16,
   "id": "5402e7ba",
   "metadata": {},
   "outputs": [],
   "source": [
    "# data['gender'].unique()"
   ]
  },
  {
   "cell_type": "markdown",
   "id": "6d95fa4b",
   "metadata": {},
   "source": [
    "Convert columns into proper format"
   ]
  },
  {
   "cell_type": "code",
   "execution_count": 17,
   "id": "bfbd9fd3",
   "metadata": {},
   "outputs": [],
   "source": [
    "# data['age']=data['age'].astype('int64')"
   ]
  },
  {
   "cell_type": "code",
   "execution_count": 18,
   "id": "9d9c4c16",
   "metadata": {},
   "outputs": [],
   "source": [
    "# data.info()"
   ]
  },
  {
   "cell_type": "markdown",
   "id": "3fe9ac1c",
   "metadata": {},
   "source": [
    "# EDA and Visualization\n",
    "\n"
   ]
  },
  {
   "cell_type": "markdown",
   "id": "c2359e5b",
   "metadata": {},
   "source": [
    "separate numerical and categorical column"
   ]
  },
  {
   "cell_type": "code",
   "execution_count": 19,
   "id": "03fea670",
   "metadata": {},
   "outputs": [
    {
     "data": {
      "text/plain": [
       "<AxesSubplot:>"
      ]
     },
     "execution_count": 19,
     "metadata": {},
     "output_type": "execute_result"
    },
    {
     "data": {
      "image/png": "[encoded data removed]",
      "text/plain": [
       "<Figure size 432x288 with 2 Axes>"
      ]
     },
     "metadata": {},
     "output_type": "display_data"
    }
   ],
   "source": [
    "sns.heatmap(data.corr(),annot=True,fmt='0.1f')"
   ]
  },
  {
   "cell_type": "code",
   "execution_count": 20,
   "id": "00a01083",
   "metadata": {},
   "outputs": [
    {
     "data": {
      "text/plain": [
       "<AxesSubplot:xlabel='diabetes', ylabel='count'>"
      ]
     },
     "execution_count": 20,
     "metadata": {},
     "output_type": "execute_result"
    },
    {
     "data": {
      "image/png": "[encoded data removed]",
      "text/plain": [
       "<Figure size 432x288 with 1 Axes>"
      ]
     },
     "metadata": {},
     "output_type": "display_data"
    }
   ],
   "source": [
    "sns.countplot(data[\"diabetes\"])"
   ]
  },
  {
   "cell_type": "code",
   "execution_count": 21,
   "id": "b0a9ac78",
   "metadata": {},
   "outputs": [],
   "source": [
    "# numerical\n",
    "data_num=data.select_dtypes(exclude='object')"
   ]
  },
  {
   "cell_type": "code",
   "execution_count": 22,
   "id": "4e70e13f",
   "metadata": {},
   "outputs": [
    {
     "data": {
      "text/html": [
       "<div>\n",
       "<style scoped>\n",
       "    .dataframe tbody tr th:only-of-type {\n",
       "        vertical-align: middle;\n",
       "    }\n",
       "\n",
       "    .dataframe tbody tr th {\n",
       "        vertical-align: top;\n",
       "    }\n",
       "\n",
       "    .dataframe thead th {\n",
       "        text-align: right;\n",
       "    }\n",
       "</style>\n",
       "<table border=\"1\" class=\"dataframe\">\n",
       "  <thead>\n",
       "    <tr style=\"text-align: right;\">\n",
       "      <th></th>\n",
       "      <th>age</th>\n",
       "      <th>hypertension</th>\n",
       "      <th>heart_disease</th>\n",
       "      <th>bmi</th>\n",
       "      <th>HbA1c_level</th>\n",
       "      <th>blood_glucose_level</th>\n",
       "      <th>diabetes</th>\n",
       "    </tr>\n",
       "  </thead>\n",
       "  <tbody>\n",
       "    <tr>\n",
       "      <th>0</th>\n",
       "      <td>80.0</td>\n",
       "      <td>0</td>\n",
       "      <td>1</td>\n",
       "      <td>25.19</td>\n",
       "      <td>6.6</td>\n",
       "      <td>140</td>\n",
       "      <td>0</td>\n",
       "    </tr>\n",
       "    <tr>\n",
       "      <th>1</th>\n",
       "      <td>54.0</td>\n",
       "      <td>0</td>\n",
       "      <td>0</td>\n",
       "      <td>27.32</td>\n",
       "      <td>6.6</td>\n",
       "      <td>80</td>\n",
       "      <td>0</td>\n",
       "    </tr>\n",
       "    <tr>\n",
       "      <th>2</th>\n",
       "      <td>28.0</td>\n",
       "      <td>0</td>\n",
       "      <td>0</td>\n",
       "      <td>27.32</td>\n",
       "      <td>5.7</td>\n",
       "      <td>158</td>\n",
       "      <td>0</td>\n",
       "    </tr>\n",
       "    <tr>\n",
       "      <th>3</th>\n",
       "      <td>36.0</td>\n",
       "      <td>0</td>\n",
       "      <td>0</td>\n",
       "      <td>23.45</td>\n",
       "      <td>5.0</td>\n",
       "      <td>155</td>\n",
       "      <td>0</td>\n",
       "    </tr>\n",
       "    <tr>\n",
       "      <th>4</th>\n",
       "      <td>76.0</td>\n",
       "      <td>1</td>\n",
       "      <td>1</td>\n",
       "      <td>20.14</td>\n",
       "      <td>4.8</td>\n",
       "      <td>155</td>\n",
       "      <td>0</td>\n",
       "    </tr>\n",
       "    <tr>\n",
       "      <th>...</th>\n",
       "      <td>...</td>\n",
       "      <td>...</td>\n",
       "      <td>...</td>\n",
       "      <td>...</td>\n",
       "      <td>...</td>\n",
       "      <td>...</td>\n",
       "      <td>...</td>\n",
       "    </tr>\n",
       "    <tr>\n",
       "      <th>99994</th>\n",
       "      <td>36.0</td>\n",
       "      <td>0</td>\n",
       "      <td>0</td>\n",
       "      <td>24.60</td>\n",
       "      <td>4.8</td>\n",
       "      <td>145</td>\n",
       "      <td>0</td>\n",
       "    </tr>\n",
       "    <tr>\n",
       "      <th>99996</th>\n",
       "      <td>2.0</td>\n",
       "      <td>0</td>\n",
       "      <td>0</td>\n",
       "      <td>17.37</td>\n",
       "      <td>6.5</td>\n",
       "      <td>100</td>\n",
       "      <td>0</td>\n",
       "    </tr>\n",
       "    <tr>\n",
       "      <th>99997</th>\n",
       "      <td>66.0</td>\n",
       "      <td>0</td>\n",
       "      <td>0</td>\n",
       "      <td>27.83</td>\n",
       "      <td>5.7</td>\n",
       "      <td>155</td>\n",
       "      <td>0</td>\n",
       "    </tr>\n",
       "    <tr>\n",
       "      <th>99998</th>\n",
       "      <td>24.0</td>\n",
       "      <td>0</td>\n",
       "      <td>0</td>\n",
       "      <td>35.42</td>\n",
       "      <td>4.0</td>\n",
       "      <td>100</td>\n",
       "      <td>0</td>\n",
       "    </tr>\n",
       "    <tr>\n",
       "      <th>99999</th>\n",
       "      <td>57.0</td>\n",
       "      <td>0</td>\n",
       "      <td>0</td>\n",
       "      <td>22.43</td>\n",
       "      <td>6.6</td>\n",
       "      <td>90</td>\n",
       "      <td>0</td>\n",
       "    </tr>\n",
       "  </tbody>\n",
       "</table>\n",
       "<p>96146 rows × 7 columns</p>\n",
       "</div>"
      ],
      "text/plain": [
       "        age  hypertension  heart_disease    bmi  HbA1c_level  \\\n",
       "0      80.0             0              1  25.19          6.6   \n",
       "1      54.0             0              0  27.32          6.6   \n",
       "2      28.0             0              0  27.32          5.7   \n",
       "3      36.0             0              0  23.45          5.0   \n",
       "4      76.0             1              1  20.14          4.8   \n",
       "...     ...           ...            ...    ...          ...   \n",
       "99994  36.0             0              0  24.60          4.8   \n",
       "99996   2.0             0              0  17.37          6.5   \n",
       "99997  66.0             0              0  27.83          5.7   \n",
       "99998  24.0             0              0  35.42          4.0   \n",
       "99999  57.0             0              0  22.43          6.6   \n",
       "\n",
       "       blood_glucose_level  diabetes  \n",
       "0                      140         0  \n",
       "1                       80         0  \n",
       "2                      158         0  \n",
       "3                      155         0  \n",
       "4                      155         0  \n",
       "...                    ...       ...  \n",
       "99994                  145         0  \n",
       "99996                  100         0  \n",
       "99997                  155         0  \n",
       "99998                  100         0  \n",
       "99999                   90         0  \n",
       "\n",
       "[96146 rows x 7 columns]"
      ]
     },
     "execution_count": 22,
     "metadata": {},
     "output_type": "execute_result"
    }
   ],
   "source": [
    "data_num"
   ]
  },
  {
   "cell_type": "code",
   "execution_count": 23,
   "id": "af31e383",
   "metadata": {},
   "outputs": [],
   "source": [
    "#categorical\n",
    "data_cat=data.select_dtypes(include='object')"
   ]
  },
  {
   "cell_type": "code",
   "execution_count": 24,
   "id": "d70905d7",
   "metadata": {},
   "outputs": [
    {
     "data": {
      "text/plain": [
       "Index(['gender', 'smoking_history'], dtype='object')"
      ]
     },
     "execution_count": 24,
     "metadata": {},
     "output_type": "execute_result"
    }
   ],
   "source": [
    "data_cat.columns"
   ]
  },
  {
   "cell_type": "markdown",
   "id": "0aa0df57",
   "metadata": {},
   "source": [
    "stastical observation on numerical column"
   ]
  },
  {
   "cell_type": "code",
   "execution_count": 25,
   "id": "59d2f2b0",
   "metadata": {},
   "outputs": [
    {
     "data": {
      "text/plain": [
       "Index(['age', 'hypertension', 'heart_disease', 'bmi', 'HbA1c_level',\n",
       "       'blood_glucose_level', 'diabetes'],\n",
       "      dtype='object')"
      ]
     },
     "execution_count": 25,
     "metadata": {},
     "output_type": "execute_result"
    }
   ],
   "source": [
    "data_num.columns"
   ]
  },
  {
   "cell_type": "code",
   "execution_count": 26,
   "id": "19e7467c",
   "metadata": {},
   "outputs": [
    {
     "data": {
      "text/html": [
       "<div>\n",
       "<style scoped>\n",
       "    .dataframe tbody tr th:only-of-type {\n",
       "        vertical-align: middle;\n",
       "    }\n",
       "\n",
       "    .dataframe tbody tr th {\n",
       "        vertical-align: top;\n",
       "    }\n",
       "\n",
       "    .dataframe thead th {\n",
       "        text-align: right;\n",
       "    }\n",
       "</style>\n",
       "<table border=\"1\" class=\"dataframe\">\n",
       "  <thead>\n",
       "    <tr style=\"text-align: right;\">\n",
       "      <th></th>\n",
       "      <th>age</th>\n",
       "      <th>hypertension</th>\n",
       "      <th>heart_disease</th>\n",
       "      <th>bmi</th>\n",
       "      <th>HbA1c_level</th>\n",
       "      <th>blood_glucose_level</th>\n",
       "      <th>diabetes</th>\n",
       "    </tr>\n",
       "  </thead>\n",
       "  <tbody>\n",
       "    <tr>\n",
       "      <th>count</th>\n",
       "      <td>96146.000000</td>\n",
       "      <td>96146.000000</td>\n",
       "      <td>96146.000000</td>\n",
       "      <td>96146.000000</td>\n",
       "      <td>96146.000000</td>\n",
       "      <td>96146.000000</td>\n",
       "      <td>96146.000000</td>\n",
       "    </tr>\n",
       "    <tr>\n",
       "      <th>mean</th>\n",
       "      <td>41.794326</td>\n",
       "      <td>0.077601</td>\n",
       "      <td>0.040803</td>\n",
       "      <td>27.321461</td>\n",
       "      <td>5.532609</td>\n",
       "      <td>138.218231</td>\n",
       "      <td>0.088220</td>\n",
       "    </tr>\n",
       "    <tr>\n",
       "      <th>std</th>\n",
       "      <td>22.462948</td>\n",
       "      <td>0.267544</td>\n",
       "      <td>0.197833</td>\n",
       "      <td>6.767716</td>\n",
       "      <td>1.073232</td>\n",
       "      <td>40.909771</td>\n",
       "      <td>0.283616</td>\n",
       "    </tr>\n",
       "    <tr>\n",
       "      <th>min</th>\n",
       "      <td>0.080000</td>\n",
       "      <td>0.000000</td>\n",
       "      <td>0.000000</td>\n",
       "      <td>10.010000</td>\n",
       "      <td>3.500000</td>\n",
       "      <td>80.000000</td>\n",
       "      <td>0.000000</td>\n",
       "    </tr>\n",
       "    <tr>\n",
       "      <th>25%</th>\n",
       "      <td>24.000000</td>\n",
       "      <td>0.000000</td>\n",
       "      <td>0.000000</td>\n",
       "      <td>23.400000</td>\n",
       "      <td>4.800000</td>\n",
       "      <td>100.000000</td>\n",
       "      <td>0.000000</td>\n",
       "    </tr>\n",
       "    <tr>\n",
       "      <th>50%</th>\n",
       "      <td>43.000000</td>\n",
       "      <td>0.000000</td>\n",
       "      <td>0.000000</td>\n",
       "      <td>27.320000</td>\n",
       "      <td>5.800000</td>\n",
       "      <td>140.000000</td>\n",
       "      <td>0.000000</td>\n",
       "    </tr>\n",
       "    <tr>\n",
       "      <th>75%</th>\n",
       "      <td>59.000000</td>\n",
       "      <td>0.000000</td>\n",
       "      <td>0.000000</td>\n",
       "      <td>29.860000</td>\n",
       "      <td>6.200000</td>\n",
       "      <td>159.000000</td>\n",
       "      <td>0.000000</td>\n",
       "    </tr>\n",
       "    <tr>\n",
       "      <th>max</th>\n",
       "      <td>80.000000</td>\n",
       "      <td>1.000000</td>\n",
       "      <td>1.000000</td>\n",
       "      <td>95.690000</td>\n",
       "      <td>9.000000</td>\n",
       "      <td>300.000000</td>\n",
       "      <td>1.000000</td>\n",
       "    </tr>\n",
       "  </tbody>\n",
       "</table>\n",
       "</div>"
      ],
      "text/plain": [
       "                age  hypertension  heart_disease           bmi   HbA1c_level  \\\n",
       "count  96146.000000  96146.000000   96146.000000  96146.000000  96146.000000   \n",
       "mean      41.794326      0.077601       0.040803     27.321461      5.532609   \n",
       "std       22.462948      0.267544       0.197833      6.767716      1.073232   \n",
       "min        0.080000      0.000000       0.000000     10.010000      3.500000   \n",
       "25%       24.000000      0.000000       0.000000     23.400000      4.800000   \n",
       "50%       43.000000      0.000000       0.000000     27.320000      5.800000   \n",
       "75%       59.000000      0.000000       0.000000     29.860000      6.200000   \n",
       "max       80.000000      1.000000       1.000000     95.690000      9.000000   \n",
       "\n",
       "       blood_glucose_level      diabetes  \n",
       "count         96146.000000  96146.000000  \n",
       "mean            138.218231      0.088220  \n",
       "std              40.909771      0.283616  \n",
       "min              80.000000      0.000000  \n",
       "25%             100.000000      0.000000  \n",
       "50%             140.000000      0.000000  \n",
       "75%             159.000000      0.000000  \n",
       "max             300.000000      1.000000  "
      ]
     },
     "execution_count": 26,
     "metadata": {},
     "output_type": "execute_result"
    }
   ],
   "source": [
    "data_num.describe()"
   ]
  },
  {
   "cell_type": "code",
   "execution_count": 27,
   "id": "7288a34d",
   "metadata": {},
   "outputs": [
    {
     "data": {
      "application/javascript": [
       "\n",
       "        if (window._pyforest_update_imports_cell) { window._pyforest_update_imports_cell('import statistics\\nfrom sklearn import metrics'); }\n",
       "    "
      ],
      "text/plain": [
       "<IPython.core.display.Javascript object>"
      ]
     },
     "metadata": {},
     "output_type": "display_data"
    },
    {
     "name": "stdout",
     "output_type": "stream",
     "text": [
      "age 504.58401386588974\n"
     ]
    },
    {
     "data": {
      "application/javascript": [
       "\n",
       "        if (window._pyforest_update_imports_cell) { window._pyforest_update_imports_cell('import statistics\\nfrom sklearn import metrics'); }\n",
       "    "
      ],
      "text/plain": [
       "<IPython.core.display.Javascript object>"
      ]
     },
     "metadata": {},
     "output_type": "display_data"
    },
    {
     "name": "stdout",
     "output_type": "stream",
     "text": [
      "hypertension 0.07157960306733009\n"
     ]
    },
    {
     "data": {
      "application/javascript": [
       "\n",
       "        if (window._pyforest_update_imports_cell) { window._pyforest_update_imports_cell('import statistics\\nfrom sklearn import metrics'); }\n",
       "    "
      ],
      "text/plain": [
       "<IPython.core.display.Javascript object>"
      ]
     },
     "metadata": {},
     "output_type": "display_data"
    },
    {
     "name": "stdout",
     "output_type": "stream",
     "text": [
      "heart_disease 0.0391380901432714\n"
     ]
    },
    {
     "data": {
      "application/javascript": [
       "\n",
       "        if (window._pyforest_update_imports_cell) { window._pyforest_update_imports_cell('import statistics\\nfrom sklearn import metrics'); }\n",
       "    "
      ],
      "text/plain": [
       "<IPython.core.display.Javascript object>"
      ]
     },
     "metadata": {},
     "output_type": "display_data"
    },
    {
     "name": "stdout",
     "output_type": "stream",
     "text": [
      "bmi 45.801973907567685\n"
     ]
    },
    {
     "data": {
      "application/javascript": [
       "\n",
       "        if (window._pyforest_update_imports_cell) { window._pyforest_update_imports_cell('import statistics\\nfrom sklearn import metrics'); }\n",
       "    "
      ],
      "text/plain": [
       "<IPython.core.display.Javascript object>"
      ]
     },
     "metadata": {},
     "output_type": "display_data"
    },
    {
     "name": "stdout",
     "output_type": "stream",
     "text": [
      "HbA1c_level 1.1518269808686272\n"
     ]
    },
    {
     "data": {
      "application/javascript": [
       "\n",
       "        if (window._pyforest_update_imports_cell) { window._pyforest_update_imports_cell('import statistics\\nfrom sklearn import metrics'); }\n",
       "    "
      ],
      "text/plain": [
       "<IPython.core.display.Javascript object>"
      ]
     },
     "metadata": {},
     "output_type": "display_data"
    },
    {
     "name": "stdout",
     "output_type": "stream",
     "text": [
      "blood_glucose_level 1673.6093929522176\n"
     ]
    },
    {
     "data": {
      "application/javascript": [
       "\n",
       "        if (window._pyforest_update_imports_cell) { window._pyforest_update_imports_cell('import statistics\\nfrom sklearn import metrics'); }\n",
       "    "
      ],
      "text/plain": [
       "<IPython.core.display.Javascript object>"
      ]
     },
     "metadata": {},
     "output_type": "display_data"
    },
    {
     "name": "stdout",
     "output_type": "stream",
     "text": [
      "diabetes 0.08043806719628062\n"
     ]
    }
   ],
   "source": [
    "#calculate variane\n",
    "for i in data_num:\n",
    "    \n",
    "     print(i,statistics.variance(data_num[i]))"
   ]
  },
  {
   "cell_type": "markdown",
   "id": "b091389a",
   "metadata": {},
   "source": [
    "Observation near to mean value gets the lower result and far from means gets higher value."
   ]
  },
  {
   "cell_type": "code",
   "execution_count": 28,
   "id": "b0f07049",
   "metadata": {},
   "outputs": [
    {
     "data": {
      "application/javascript": [
       "\n",
       "        if (window._pyforest_update_imports_cell) { window._pyforest_update_imports_cell('import statistics\\nfrom sklearn import metrics'); }\n",
       "    "
      ],
      "text/plain": [
       "<IPython.core.display.Javascript object>"
      ]
     },
     "metadata": {},
     "output_type": "display_data"
    },
    {
     "name": "stdout",
     "output_type": "stream",
     "text": [
      "age 22.46294757741935\n"
     ]
    },
    {
     "data": {
      "application/javascript": [
       "\n",
       "        if (window._pyforest_update_imports_cell) { window._pyforest_update_imports_cell('import statistics\\nfrom sklearn import metrics'); }\n",
       "    "
      ],
      "text/plain": [
       "<IPython.core.display.Javascript object>"
      ]
     },
     "metadata": {},
     "output_type": "display_data"
    },
    {
     "name": "stdout",
     "output_type": "stream",
     "text": [
      "hypertension 0.2675436470322741\n"
     ]
    },
    {
     "data": {
      "application/javascript": [
       "\n",
       "        if (window._pyforest_update_imports_cell) { window._pyforest_update_imports_cell('import statistics\\nfrom sklearn import metrics'); }\n",
       "    "
      ],
      "text/plain": [
       "<IPython.core.display.Javascript object>"
      ]
     },
     "metadata": {},
     "output_type": "display_data"
    },
    {
     "name": "stdout",
     "output_type": "stream",
     "text": [
      "heart_disease 0.19783349095456867\n"
     ]
    },
    {
     "data": {
      "application/javascript": [
       "\n",
       "        if (window._pyforest_update_imports_cell) { window._pyforest_update_imports_cell('import statistics\\nfrom sklearn import metrics'); }\n",
       "    "
      ],
      "text/plain": [
       "<IPython.core.display.Javascript object>"
      ]
     },
     "metadata": {},
     "output_type": "display_data"
    },
    {
     "name": "stdout",
     "output_type": "stream",
     "text": [
      "bmi 6.767715560480338\n"
     ]
    },
    {
     "data": {
      "application/javascript": [
       "\n",
       "        if (window._pyforest_update_imports_cell) { window._pyforest_update_imports_cell('import statistics\\nfrom sklearn import metrics'); }\n",
       "    "
      ],
      "text/plain": [
       "<IPython.core.display.Javascript object>"
      ]
     },
     "metadata": {},
     "output_type": "display_data"
    },
    {
     "name": "stdout",
     "output_type": "stream",
     "text": [
      "HbA1c_level 1.073232025644328\n"
     ]
    },
    {
     "data": {
      "application/javascript": [
       "\n",
       "        if (window._pyforest_update_imports_cell) { window._pyforest_update_imports_cell('import statistics\\nfrom sklearn import metrics'); }\n",
       "    "
      ],
      "text/plain": [
       "<IPython.core.display.Javascript object>"
      ]
     },
     "metadata": {},
     "output_type": "display_data"
    },
    {
     "name": "stdout",
     "output_type": "stream",
     "text": [
      "blood_glucose_level 40.909771362746795\n"
     ]
    },
    {
     "data": {
      "application/javascript": [
       "\n",
       "        if (window._pyforest_update_imports_cell) { window._pyforest_update_imports_cell('import statistics\\nfrom sklearn import metrics'); }\n",
       "    "
      ],
      "text/plain": [
       "<IPython.core.display.Javascript object>"
      ]
     },
     "metadata": {},
     "output_type": "display_data"
    },
    {
     "name": "stdout",
     "output_type": "stream",
     "text": [
      "diabetes 0.28361605595642964\n"
     ]
    }
   ],
   "source": [
    "#standanrd deviation\n",
    "for i in data_num:\n",
    "    \n",
    "     print(i,statistics.stdev(data_num[i]))"
   ]
  },
  {
   "cell_type": "markdown",
   "id": "aa350bb4",
   "metadata": {},
   "source": [
    "Low standard deviation indicates data points close to mean."
   ]
  },
  {
   "cell_type": "markdown",
   "id": "897f36ba",
   "metadata": {},
   "source": [
    "# finding outliers"
   ]
  },
  {
   "cell_type": "code",
   "execution_count": 29,
   "id": "d4f7f2c4",
   "metadata": {},
   "outputs": [
    {
     "name": "stdout",
     "output_type": "stream",
     "text": [
      "The Lower Quartile outliers are :\n",
      " age                   -28.50\n",
      "hypertension            0.00\n",
      "heart_disease           0.00\n",
      "bmi                    13.71\n",
      "HbA1c_level             2.70\n",
      "blood_glucose_level    11.50\n",
      "diabetes                0.00\n",
      "dtype: float64\n",
      "The Upper Quartile outliers are :\n",
      "  age                    111.50\n",
      "hypertension             0.00\n",
      "heart_disease            0.00\n",
      "bmi                     39.55\n",
      "HbA1c_level              8.30\n",
      "blood_glucose_level    247.50\n",
      "diabetes                 0.00\n",
      "dtype: float64\n"
     ]
    }
   ],
   "source": [
    "Q1=data_num.quantile(0.25)\n",
    "Q3=data_num.quantile(0.75)\n",
    "IQR=Q3-Q1\n",
    "LR=Q1-(IQR*1.5)\n",
    "UR=Q3+(IQR*1.5)\n",
    "print(\"The Lower Quartile outliers are :\\n\", LR)\n",
    "print(\"The Upper Quartile outliers are :\\n \",UR)"
   ]
  },
  {
   "cell_type": "code",
   "execution_count": 30,
   "id": "39f373f2",
   "metadata": {},
   "outputs": [],
   "source": [
    "#visualize using boxplot"
   ]
  },
  {
   "cell_type": "code",
   "execution_count": 31,
   "id": "f11bd2bc",
   "metadata": {},
   "outputs": [
    {
     "data": {
      "image/png": "[encoded data removed]",
      "text/plain": [
       "<Figure size 432x288 with 1 Axes>"
      ]
     },
     "metadata": {},
     "output_type": "display_data"
    },
    {
     "data": {
      "image/png": "[encoded data removed]",
      "text/plain": [
       "<Figure size 432x288 with 1 Axes>"
      ]
     },
     "metadata": {},
     "output_type": "display_data"
    },
    {
     "data": {
      "image/png": "[encoded data removed]",
      "text/plain": [
       "<Figure size 432x288 with 1 Axes>"
      ]
     },
     "metadata": {},
     "output_type": "display_data"
    },
    {
     "data": {
      "image/png": "[encoded data removed]",
      "text/plain": [
       "<Figure size 432x288 with 1 Axes>"
      ]
     },
     "metadata": {},
     "output_type": "display_data"
    },
    {
     "data": {
      "image/png": "[encoded data removed]",
      "text/plain": [
       "<Figure size 432x288 with 1 Axes>"
      ]
     },
     "metadata": {},
     "output_type": "display_data"
    },
    {
     "data": {
      "image/png": "[encoded data removed]",
      "text/plain": [
       "<Figure size 432x288 with 1 Axes>"
      ]
     },
     "metadata": {},
     "output_type": "display_data"
    },
    {
     "data": {
      "image/png": "[encoded data removed]",
      "text/plain": [
       "<Figure size 432x288 with 1 Axes>"
      ]
     },
     "metadata": {},
     "output_type": "display_data"
    }
   ],
   "source": [
    "for i in data_num:\n",
    "    plt.figure()\n",
    "    plt.boxplot(data_num[i])\n",
    "    plt.xlabel(i)"
   ]
  },
  {
   "cell_type": "markdown",
   "id": "8772a271",
   "metadata": {},
   "source": [
    "displaying outliers"
   ]
  },
  {
   "cell_type": "code",
   "execution_count": 32,
   "id": "ff95f393",
   "metadata": {},
   "outputs": [
    {
     "name": "stdout",
     "output_type": "stream",
     "text": [
      "Old Shape:  (96146, 7)\n",
      "Outliers are: (array([], dtype=int64),) (array([], dtype=int64),)\n"
     ]
    }
   ],
   "source": [
    "Q1 = np.percentile(data_num['age'], 25,\n",
    "                   interpolation = 'midpoint')\n",
    " \n",
    "Q3 = np.percentile(data_num['age'], 75,\n",
    "                   interpolation = 'midpoint')\n",
    "IQR = Q3 - Q1\n",
    " \n",
    "print(\"Old Shape: \", data_num.shape)\n",
    " \n",
    "# Upper bound\n",
    "upper = np.where(data_num['age'] >= (Q3+1.5*IQR))\n",
    "# Lower bound\n",
    "lower = np.where(data_num['age'] <= (Q1-1.5*IQR))\n",
    " \n",
    "''' Detecting the Outliers '''\n",
    "print(\"Outliers are:\",upper,lower)"
   ]
  },
  {
   "cell_type": "code",
   "execution_count": 33,
   "id": "105083bd",
   "metadata": {},
   "outputs": [
    {
     "name": "stdout",
     "output_type": "stream",
     "text": [
      "Old Shape:  (96146, 7)\n",
      "Outliers are: (array([    0,     1,     2, ..., 96143, 96144, 96145], dtype=int64),) (array([    0,     1,     2, ..., 96143, 96144, 96145], dtype=int64),)\n"
     ]
    }
   ],
   "source": [
    "Q1 = np.percentile(data_num['hypertension'], 25,\n",
    "                   interpolation = 'midpoint')\n",
    " \n",
    "Q3 = np.percentile(data_num['hypertension'], 75,\n",
    "                   interpolation = 'midpoint')\n",
    "IQR = Q3 - Q1\n",
    " \n",
    "print(\"Old Shape: \", data_num.shape)\n",
    " \n",
    "# Upper bound\n",
    "upper = np.where(data_num['hypertension'] >= (Q3+1.5*IQR))\n",
    "# Lower bound\n",
    "lower = np.where(data_num['hypertension'] <= (Q1-1.5*IQR))\n",
    " \n",
    "''' Detecting the Outliers '''\n",
    "print(\"Outliers are:\",upper,lower)"
   ]
  },
  {
   "cell_type": "code",
   "execution_count": 34,
   "id": "75796908",
   "metadata": {},
   "outputs": [
    {
     "name": "stdout",
     "output_type": "stream",
     "text": [
      "Old Shape:  (96146, 7)\n",
      "Outliers are: (array([    0,     1,     2, ..., 96143, 96144, 96145], dtype=int64),) (array([    1,     2,     3, ..., 96143, 96144, 96145], dtype=int64),)\n"
     ]
    }
   ],
   "source": [
    "Q1 = np.percentile(data_num['heart_disease'], 25,\n",
    "                   interpolation = 'midpoint')\n",
    " \n",
    "Q3 = np.percentile(data_num['heart_disease'], 75,\n",
    "                   interpolation = 'midpoint')\n",
    "IQR = Q3 - Q1\n",
    " \n",
    "print(\"Old Shape: \", data_num.shape)\n",
    " \n",
    "# Upper bound\n",
    "upper = np.where(data_num['heart_disease'] >= (Q3+1.5*IQR))\n",
    "# Lower bound\n",
    "lower = np.where(data_num['heart_disease'] <= (Q1-1.5*IQR))\n",
    " \n",
    "''' Detecting the Outliers '''\n",
    "print(\"Outliers are:\",upper,lower)"
   ]
  },
  {
   "cell_type": "code",
   "execution_count": 35,
   "id": "ca123abe",
   "metadata": {},
   "outputs": [
    {
     "name": "stdout",
     "output_type": "stream",
     "text": [
      "Old Shape:  (96146, 7)\n",
      "Outliers are: (array([   11,    39,    59, ..., 96108, 96114, 96140], dtype=int64),) (array([  264,   268,   677,   824,  1089,  1091,  1134,  1318,  1366,\n",
      "        1888,  2049,  2458,  2754,  3543,  3627,  3739,  3782,  3978,\n",
      "        4426,  5036,  5157,  5257,  5413,  5800,  6103,  6319,  6349,\n",
      "        6385,  6587,  6648,  7232,  7427,  7761,  8479,  9119,  9319,\n",
      "        9483,  9642,  9743,  9924,  9982, 10033, 10072, 10502, 10675,\n",
      "       10891, 10912, 11026, 11039, 11575, 11618, 11714, 11748, 11895,\n",
      "       12287, 12390, 12540, 12794, 12832, 12873, 13028, 13984, 14357,\n",
      "       14620, 14707, 15085, 15240, 15250, 15252, 15433, 15540, 15739,\n",
      "       16172, 16187, 16203, 16454, 16469, 16540, 16576, 16941, 17328,\n",
      "       17630, 18162, 18405, 18655, 19189, 19555, 19587, 19648, 19734,\n",
      "       20242, 20806, 21241, 21326, 21929, 22229, 22617, 22649, 22725,\n",
      "       22755, 22915, 23251, 23493, 23616, 23623, 23970, 24293, 24459,\n",
      "       24596, 25284, 25372, 25608, 25994, 26449, 27263, 27588, 27597,\n",
      "       27689, 28304, 28473, 28666, 28703, 28739, 28741, 28898, 29098,\n",
      "       29108, 29172, 29205, 29235, 29534, 29615, 29670, 29852, 30024,\n",
      "       30132, 30228, 30290, 30765, 31561, 31607, 31947, 32222, 32409,\n",
      "       32425, 32467, 32478, 32610, 32793, 32895, 33416, 33678, 33726,\n",
      "       34459, 34910, 35035, 35245, 35511, 36252, 36325, 36720, 36810,\n",
      "       37024, 37502, 37719, 38187, 38200, 38230, 38307, 38579, 38829,\n",
      "       38879, 39048, 39212, 39439, 39699, 39749, 39965, 40186, 40401,\n",
      "       40811, 40992, 41091, 41280, 41440, 41616, 42503, 42877, 43393,\n",
      "       43786, 43808, 43818, 43930, 44041, 44220, 44234, 44499, 44516,\n",
      "       44651, 45188, 45606, 45736, 45884, 46027, 46048, 46065, 46103,\n",
      "       46119, 46359, 47108, 47221, 47724, 47918, 48874, 48987, 49030,\n",
      "       49107, 49349, 49463, 50089, 50258, 50511, 50623, 50653, 50916,\n",
      "       51026, 51091, 51211, 51227, 51374, 51382, 51665, 51683, 51956,\n",
      "       52545, 53324, 53423, 53468, 53661, 53802, 54131, 54145, 54207,\n",
      "       54907, 54931, 55055, 55591, 55749, 55780, 56015, 56117, 56300,\n",
      "       56497, 56505, 56562, 56942, 56978, 57415, 57985, 58107, 58235,\n",
      "       58397, 58749, 58915, 58996, 59001, 59187, 59516, 59642, 59877,\n",
      "       60018, 60897, 61011, 61454, 61701, 61800, 61941, 62853, 62913,\n",
      "       63046, 63104, 63585, 63615, 63817, 64041, 64233, 64407, 64427,\n",
      "       64842, 64998, 65053, 65463, 65929, 66008, 66412, 66655, 66877,\n",
      "       67350, 67375, 67468, 67643, 67738, 67825, 67962, 68326, 68698,\n",
      "       69279, 69283, 69312, 69775, 70072, 70344, 71066, 71141, 71702,\n",
      "       71992, 72202, 72245, 72368, 72830, 73456, 73488, 73589, 74115,\n",
      "       74466, 74490, 75162, 75565, 75626, 75769, 76161, 76976, 77149,\n",
      "       77254, 77511, 77520, 77595, 77994, 78210, 78312, 78452, 78553,\n",
      "       78632, 79082, 79442, 79456, 79887, 79914, 79925, 80337, 80456,\n",
      "       80823, 80920, 80985, 81083, 81126, 81522, 81712, 82213, 82388,\n",
      "       82977, 83071, 83131, 83200, 83523, 83637, 83693, 84134, 84152,\n",
      "       84320, 84393, 85323, 85369, 85693, 86263, 86365, 86506, 87199,\n",
      "       87414, 87435, 87629, 87869, 87915, 88201, 88513, 88864, 88941,\n",
      "       89159, 89594, 89875, 90338, 90416, 90538, 90600, 90839, 91407,\n",
      "       91706, 91750, 92070, 92089, 92466, 92702, 92822, 93292, 93328,\n",
      "       93410, 93756, 93806, 94034, 94560, 94654, 95190, 95944, 96088],\n",
      "      dtype=int64),)\n"
     ]
    }
   ],
   "source": [
    "Q1 = np.percentile(data_num['bmi'], 25,\n",
    "                   interpolation = 'midpoint')\n",
    " \n",
    "Q3 = np.percentile(data_num['bmi'], 75,\n",
    "                   interpolation = 'midpoint')\n",
    "IQR = Q3 - Q1\n",
    " \n",
    "print(\"Old Shape: \", data_num.shape)\n",
    " \n",
    "# Upper bound\n",
    "upper = np.where(data_num['bmi'] >= (Q3+1.5*IQR))\n",
    "# Lower bound\n",
    "lower = np.where(data_num['bmi'] <= (Q1-1.5*IQR))\n",
    " \n",
    "''' Detecting the Outliers '''\n",
    "print(\"Outliers are:\",upper,lower)"
   ]
  },
  {
   "cell_type": "code",
   "execution_count": 36,
   "id": "e8925094",
   "metadata": {},
   "outputs": [
    {
     "name": "stdout",
     "output_type": "stream",
     "text": [
      "Old Shape:  (96146, 7)\n",
      "Outliers are: (array([   40,    55,    59, ..., 95879, 95909, 96084], dtype=int64),) (array([], dtype=int64),)\n"
     ]
    }
   ],
   "source": [
    "Q1 = np.percentile(data_num['HbA1c_level'], 25,\n",
    "                   interpolation = 'midpoint')\n",
    " \n",
    "Q3 = np.percentile(data_num['HbA1c_level'], 75,\n",
    "                   interpolation = 'midpoint')\n",
    "IQR = Q3 - Q1\n",
    " \n",
    "print(\"Old Shape: \", data_num.shape)\n",
    " \n",
    "# Upper bound\n",
    "upper = np.where(data_num['HbA1c_level'] >= (Q3+1.5*IQR))\n",
    "# Lower bound\n",
    "lower = np.where(data_num['HbA1c_level'] <= (Q1-1.5*IQR))\n",
    " \n",
    "''' Detecting the Outliers '''\n",
    "print(\"Outliers are:\",upper,lower)"
   ]
  },
  {
   "cell_type": "code",
   "execution_count": 37,
   "id": "2e5b26c4",
   "metadata": {},
   "outputs": [
    {
     "name": "stdout",
     "output_type": "stream",
     "text": [
      "Old Shape:  (96146, 7)\n",
      "Outliers are: (array([   38,    94,   104, ..., 96026, 96093, 96111], dtype=int64),) (array([], dtype=int64),)\n"
     ]
    }
   ],
   "source": [
    "Q1 = np.percentile(data_num['blood_glucose_level'], 25,\n",
    "                   interpolation = 'midpoint')\n",
    " \n",
    "Q3 = np.percentile(data_num['blood_glucose_level'], 75,\n",
    "                   interpolation = 'midpoint')\n",
    "IQR = Q3 - Q1\n",
    " \n",
    "print(\"Old Shape: \", data_num.shape)\n",
    " \n",
    "# Upper bound\n",
    "upper = np.where(data_num['blood_glucose_level'] >= (Q3+1.5*IQR))\n",
    "# Lower bound\n",
    "lower = np.where(data_num['blood_glucose_level'] <= (Q1-1.5*IQR))\n",
    " \n",
    "''' Detecting the Outliers '''\n",
    "print(\"Outliers are:\",upper,lower)"
   ]
  },
  {
   "cell_type": "code",
   "execution_count": 38,
   "id": "c0147e92",
   "metadata": {},
   "outputs": [
    {
     "name": "stdout",
     "output_type": "stream",
     "text": [
      "Old Shape:  (96146, 7)\n",
      "Outliers are: (array([    0,     1,     2, ..., 96143, 96144, 96145], dtype=int64),) (array([    0,     1,     2, ..., 96143, 96144, 96145], dtype=int64),)\n"
     ]
    }
   ],
   "source": [
    "Q1 = np.percentile(data_num['diabetes'], 25,\n",
    "                   interpolation = 'midpoint')\n",
    " \n",
    "Q3 = np.percentile(data_num['diabetes'], 75,\n",
    "                   interpolation = 'midpoint')\n",
    "IQR = Q3 - Q1\n",
    " \n",
    "print(\"Old Shape: \", data_num.shape)\n",
    " \n",
    "# Upper bound\n",
    "upper = np.where(data_num['diabetes'] >= (Q3+1.5*IQR))\n",
    "# Lower bound\n",
    "lower = np.where(data_num['diabetes'] <= (Q1-1.5*IQR))\n",
    " \n",
    "''' Detecting the Outliers '''\n",
    "print(\"Outliers are:\",upper,lower)"
   ]
  },
  {
   "cell_type": "code",
   "execution_count": 39,
   "id": "ed0f8215",
   "metadata": {},
   "outputs": [
    {
     "data": {
      "image/png": "[encoded data removed]",
      "text/plain": [
       "<Figure size 1440x4320 with 7 Axes>"
      ]
     },
     "metadata": {},
     "output_type": "display_data"
    }
   ],
   "source": [
    "#norml distribution \n",
    "#Distplot\n",
    "plt.figure(figsize=(20,60), facecolor='white')\n",
    "plotnumber =1\n",
    "for num_features in data_num:\n",
    "    ax = plt.subplot(12,3,plotnumber)\n",
    "    sns.distplot(data_num[num_features])\n",
    "    plt.xlabel(num_features)\n",
    "    plotnumber+=1\n",
    "plt.show()"
   ]
  },
  {
   "cell_type": "code",
   "execution_count": 40,
   "id": "2dd2762b",
   "metadata": {},
   "outputs": [],
   "source": [
    "#capping using z-score\n",
    "upper_limit = data_num['blood_glucose_level'].mean() + 3*data_num['blood_glucose_level'].std()\n",
    "lower_limit = data_num ['blood_glucose_level'].mean() - 3*data_num['blood_glucose_level'].std()\n",
    "\n",
    "data_num['blood_glucose_level'] = np.where(\n",
    "    data_num['blood_glucose_level']>upper_limit,\n",
    "    upper_limit,\n",
    "    np.where(\n",
    "        data_num['blood_glucose_level']<lower_limit,\n",
    "        lower_limit,\n",
    "        data_num['blood_glucose_level']\n",
    "    )\n",
    ")"
   ]
  },
  {
   "cell_type": "code",
   "execution_count": 41,
   "id": "d18867d9",
   "metadata": {},
   "outputs": [
    {
     "data": {
      "text/plain": [
       "{'whiskers': [<matplotlib.lines.Line2D at 0x1bfc5123670>,\n",
       "  <matplotlib.lines.Line2D at 0x1bfc5123940>],\n",
       " 'caps': [<matplotlib.lines.Line2D at 0x1bfc5123c10>,\n",
       "  <matplotlib.lines.Line2D at 0x1bfc5123ee0>],\n",
       " 'boxes': [<matplotlib.lines.Line2D at 0x1bfc51233a0>],\n",
       " 'medians': [<matplotlib.lines.Line2D at 0x1bfc57431f0>],\n",
       " 'fliers': [<matplotlib.lines.Line2D at 0x1bfc57434c0>],\n",
       " 'means': []}"
      ]
     },
     "execution_count": 41,
     "metadata": {},
     "output_type": "execute_result"
    },
    {
     "data": {
      "image/png": "[encoded data removed]",
      "text/plain": [
       "<Figure size 432x288 with 1 Axes>"
      ]
     },
     "metadata": {},
     "output_type": "display_data"
    }
   ],
   "source": [
    "\n",
    "plt.boxplot(data_num['HbA1c_level'])"
   ]
  },
  {
   "cell_type": "code",
   "execution_count": 42,
   "id": "6849e58b",
   "metadata": {},
   "outputs": [],
   "source": [
    "percentile25=data_num['HbA1c_level'].quantile(0.25)\n",
    "percentile75=data_num['HbA1c_level'].quantile(0.75)\n"
   ]
  },
  {
   "cell_type": "code",
   "execution_count": 43,
   "id": "304af5fd",
   "metadata": {},
   "outputs": [
    {
     "data": {
      "text/plain": [
       "4.8"
      ]
     },
     "execution_count": 43,
     "metadata": {},
     "output_type": "execute_result"
    }
   ],
   "source": [
    "percentile25"
   ]
  },
  {
   "cell_type": "code",
   "execution_count": 44,
   "id": "bfff855c",
   "metadata": {},
   "outputs": [],
   "source": [
    "iqr=percentile75-percentile25"
   ]
  },
  {
   "cell_type": "code",
   "execution_count": 45,
   "id": "a9c48c15",
   "metadata": {},
   "outputs": [],
   "source": [
    "upper=percentile75+1.5*iqr\n",
    "lower=percentile25-1.5*iqr"
   ]
  },
  {
   "cell_type": "code",
   "execution_count": 46,
   "id": "586d889e",
   "metadata": {},
   "outputs": [
    {
     "data": {
      "text/plain": [
       "8.3"
      ]
     },
     "execution_count": 46,
     "metadata": {},
     "output_type": "execute_result"
    }
   ],
   "source": [
    "upper"
   ]
  },
  {
   "cell_type": "code",
   "execution_count": 47,
   "id": "691d7f0c",
   "metadata": {},
   "outputs": [
    {
     "data": {
      "text/html": [
       "<div>\n",
       "<style scoped>\n",
       "    .dataframe tbody tr th:only-of-type {\n",
       "        vertical-align: middle;\n",
       "    }\n",
       "\n",
       "    .dataframe tbody tr th {\n",
       "        vertical-align: top;\n",
       "    }\n",
       "\n",
       "    .dataframe thead th {\n",
       "        text-align: right;\n",
       "    }\n",
       "</style>\n",
       "<table border=\"1\" class=\"dataframe\">\n",
       "  <thead>\n",
       "    <tr style=\"text-align: right;\">\n",
       "      <th></th>\n",
       "      <th>age</th>\n",
       "      <th>hypertension</th>\n",
       "      <th>heart_disease</th>\n",
       "      <th>bmi</th>\n",
       "      <th>HbA1c_level</th>\n",
       "      <th>blood_glucose_level</th>\n",
       "      <th>diabetes</th>\n",
       "    </tr>\n",
       "  </thead>\n",
       "  <tbody>\n",
       "    <tr>\n",
       "      <th>40</th>\n",
       "      <td>73.0</td>\n",
       "      <td>0</td>\n",
       "      <td>0</td>\n",
       "      <td>25.91</td>\n",
       "      <td>9.0</td>\n",
       "      <td>160.000000</td>\n",
       "      <td>1</td>\n",
       "    </tr>\n",
       "    <tr>\n",
       "      <th>55</th>\n",
       "      <td>50.0</td>\n",
       "      <td>0</td>\n",
       "      <td>0</td>\n",
       "      <td>37.16</td>\n",
       "      <td>9.0</td>\n",
       "      <td>159.000000</td>\n",
       "      <td>1</td>\n",
       "    </tr>\n",
       "    <tr>\n",
       "      <th>59</th>\n",
       "      <td>67.0</td>\n",
       "      <td>0</td>\n",
       "      <td>0</td>\n",
       "      <td>63.48</td>\n",
       "      <td>8.8</td>\n",
       "      <td>155.000000</td>\n",
       "      <td>1</td>\n",
       "    </tr>\n",
       "    <tr>\n",
       "      <th>135</th>\n",
       "      <td>80.0</td>\n",
       "      <td>0</td>\n",
       "      <td>0</td>\n",
       "      <td>22.06</td>\n",
       "      <td>9.0</td>\n",
       "      <td>155.000000</td>\n",
       "      <td>1</td>\n",
       "    </tr>\n",
       "    <tr>\n",
       "      <th>169</th>\n",
       "      <td>61.0</td>\n",
       "      <td>0</td>\n",
       "      <td>0</td>\n",
       "      <td>39.36</td>\n",
       "      <td>9.0</td>\n",
       "      <td>140.000000</td>\n",
       "      <td>1</td>\n",
       "    </tr>\n",
       "    <tr>\n",
       "      <th>...</th>\n",
       "      <td>...</td>\n",
       "      <td>...</td>\n",
       "      <td>...</td>\n",
       "      <td>...</td>\n",
       "      <td>...</td>\n",
       "      <td>...</td>\n",
       "      <td>...</td>\n",
       "    </tr>\n",
       "    <tr>\n",
       "      <th>99523</th>\n",
       "      <td>80.0</td>\n",
       "      <td>1</td>\n",
       "      <td>1</td>\n",
       "      <td>19.25</td>\n",
       "      <td>8.8</td>\n",
       "      <td>200.000000</td>\n",
       "      <td>1</td>\n",
       "    </tr>\n",
       "    <tr>\n",
       "      <th>99663</th>\n",
       "      <td>80.0</td>\n",
       "      <td>0</td>\n",
       "      <td>0</td>\n",
       "      <td>34.00</td>\n",
       "      <td>9.0</td>\n",
       "      <td>260.947545</td>\n",
       "      <td>1</td>\n",
       "    </tr>\n",
       "    <tr>\n",
       "      <th>99706</th>\n",
       "      <td>54.0</td>\n",
       "      <td>1</td>\n",
       "      <td>0</td>\n",
       "      <td>23.06</td>\n",
       "      <td>9.0</td>\n",
       "      <td>126.000000</td>\n",
       "      <td>1</td>\n",
       "    </tr>\n",
       "    <tr>\n",
       "      <th>99740</th>\n",
       "      <td>80.0</td>\n",
       "      <td>0</td>\n",
       "      <td>1</td>\n",
       "      <td>25.76</td>\n",
       "      <td>9.0</td>\n",
       "      <td>220.000000</td>\n",
       "      <td>1</td>\n",
       "    </tr>\n",
       "    <tr>\n",
       "      <th>99929</th>\n",
       "      <td>37.0</td>\n",
       "      <td>0</td>\n",
       "      <td>0</td>\n",
       "      <td>36.87</td>\n",
       "      <td>8.8</td>\n",
       "      <td>160.000000</td>\n",
       "      <td>1</td>\n",
       "    </tr>\n",
       "  </tbody>\n",
       "</table>\n",
       "<p>1312 rows × 7 columns</p>\n",
       "</div>"
      ],
      "text/plain": [
       "        age  hypertension  heart_disease    bmi  HbA1c_level  \\\n",
       "40     73.0             0              0  25.91          9.0   \n",
       "55     50.0             0              0  37.16          9.0   \n",
       "59     67.0             0              0  63.48          8.8   \n",
       "135    80.0             0              0  22.06          9.0   \n",
       "169    61.0             0              0  39.36          9.0   \n",
       "...     ...           ...            ...    ...          ...   \n",
       "99523  80.0             1              1  19.25          8.8   \n",
       "99663  80.0             0              0  34.00          9.0   \n",
       "99706  54.0             1              0  23.06          9.0   \n",
       "99740  80.0             0              1  25.76          9.0   \n",
       "99929  37.0             0              0  36.87          8.8   \n",
       "\n",
       "       blood_glucose_level  diabetes  \n",
       "40              160.000000         1  \n",
       "55              159.000000         1  \n",
       "59              155.000000         1  \n",
       "135             155.000000         1  \n",
       "169             140.000000         1  \n",
       "...                    ...       ...  \n",
       "99523           200.000000         1  \n",
       "99663           260.947545         1  \n",
       "99706           126.000000         1  \n",
       "99740           220.000000         1  \n",
       "99929           160.000000         1  \n",
       "\n",
       "[1312 rows x 7 columns]"
      ]
     },
     "execution_count": 47,
     "metadata": {},
     "output_type": "execute_result"
    }
   ],
   "source": [
    "data_num[data_num['HbA1c_level']>8.3]"
   ]
  },
  {
   "cell_type": "code",
   "execution_count": 48,
   "id": "22780f03",
   "metadata": {},
   "outputs": [],
   "source": [
    "#capping using IQR\n",
    "data_num['HbA1c_level'] = np.where(\n",
    "    data_num['HbA1c_level']>upper,\n",
    "    upper,\n",
    "    np.where(\n",
    "        data_num['HbA1c_level']<lower,\n",
    "        lower,\n",
    "        data_num['HbA1c_level']\n",
    "    )\n",
    ")"
   ]
  },
  {
   "cell_type": "code",
   "execution_count": 49,
   "id": "d8f1a91a",
   "metadata": {},
   "outputs": [
    {
     "data": {
      "text/plain": [
       "<AxesSubplot:xlabel='HbA1c_level'>"
      ]
     },
     "execution_count": 49,
     "metadata": {},
     "output_type": "execute_result"
    },
    {
     "data": {
      "image/png": "[encoded data removed]",
      "text/plain": [
       "<Figure size 432x288 with 1 Axes>"
      ]
     },
     "metadata": {},
     "output_type": "display_data"
    }
   ],
   "source": [
    "sns.boxplot(data_num['HbA1c_level'])"
   ]
  },
  {
   "cell_type": "markdown",
   "id": "40f18008",
   "metadata": {},
   "source": [
    "There is no outlier present after capping"
   ]
  },
  {
   "cell_type": "code",
   "execution_count": 50,
   "id": "88c8558f",
   "metadata": {},
   "outputs": [
    {
     "data": {
      "text/plain": [
       "<AxesSubplot:xlabel='bmi'>"
      ]
     },
     "execution_count": 50,
     "metadata": {},
     "output_type": "execute_result"
    },
    {
     "data": {
      "image/png": "[encoded data removed]",
      "text/plain": [
       "<Figure size 432x288 with 1 Axes>"
      ]
     },
     "metadata": {},
     "output_type": "display_data"
    }
   ],
   "source": [
    "sns.boxplot(data_num['bmi'])"
   ]
  },
  {
   "cell_type": "code",
   "execution_count": 51,
   "id": "d3648b45",
   "metadata": {},
   "outputs": [],
   "source": [
    "#capping of outliers\n",
    "Percentile25=data_num['bmi'].quantile(0.25)\n",
    "Percentile75=data_num['bmi'].quantile(0.75)"
   ]
  },
  {
   "cell_type": "code",
   "execution_count": 52,
   "id": "cd08a4da",
   "metadata": {},
   "outputs": [],
   "source": [
    "Iqr=Percentile75-Percentile25"
   ]
  },
  {
   "cell_type": "code",
   "execution_count": 53,
   "id": "e2f53d4b",
   "metadata": {},
   "outputs": [],
   "source": [
    "Upper=Percentile75+1.5*Iqr\n",
    "Lower=Percentile25-1.5*Iqr"
   ]
  },
  {
   "cell_type": "code",
   "execution_count": 54,
   "id": "bea3d6ea",
   "metadata": {},
   "outputs": [],
   "source": [
    "data_num['bmi'] = np.where(\n",
    "    data_num['bmi']>Upper,\n",
    "    Upper,\n",
    "    np.where(\n",
    "        data_num['bmi']<Lower,\n",
    "        Lower,\n",
    "        data_num['bmi']\n",
    "    )\n",
    ")"
   ]
  },
  {
   "cell_type": "code",
   "execution_count": 55,
   "id": "6fe70a95",
   "metadata": {},
   "outputs": [
    {
     "data": {
      "text/plain": [
       "<AxesSubplot:xlabel='bmi'>"
      ]
     },
     "execution_count": 55,
     "metadata": {},
     "output_type": "execute_result"
    },
    {
     "data": {
      "image/png": "[encoded data removed]",
      "text/plain": [
       "<Figure size 432x288 with 1 Axes>"
      ]
     },
     "metadata": {},
     "output_type": "display_data"
    }
   ],
   "source": [
    "sns.boxplot(data_num['bmi'])"
   ]
  },
  {
   "cell_type": "markdown",
   "id": "c613f930",
   "metadata": {},
   "source": [
    "THere is no outliers"
   ]
  },
  {
   "cell_type": "code",
   "execution_count": 56,
   "id": "5f196832",
   "metadata": {},
   "outputs": [
    {
     "data": {
      "image/png": "[encoded data removed]",
      "text/plain": [
       "<Figure size 1440x4320 with 7 Axes>"
      ]
     },
     "metadata": {},
     "output_type": "display_data"
    }
   ],
   "source": [
    "plt.figure(figsize=(20,60), facecolor='white')\n",
    "plotnumber =1\n",
    "for num_features in data_num:\n",
    "    ax = plt.subplot(12,3,plotnumber)\n",
    "    sns.boxplot(data_num[num_features])\n",
    "    plt.xlabel(num_features)\n",
    "    plotnumber+=1\n",
    "plt.show()"
   ]
  },
  {
   "cell_type": "markdown",
   "id": "20dd65f1",
   "metadata": {},
   "source": [
    "# Dealing with distribution"
   ]
  },
  {
   "cell_type": "code",
   "execution_count": 57,
   "id": "b2408024",
   "metadata": {},
   "outputs": [
    {
     "data": {
      "image/png": "[encoded data removed]",
      "text/plain": [
       "<Figure size 1440x4320 with 7 Axes>"
      ]
     },
     "metadata": {},
     "output_type": "display_data"
    }
   ],
   "source": [
    "plt.figure(figsize=(20,60), facecolor='white')\n",
    "plotnumber =1\n",
    "for num_features in data_num:\n",
    "    ax = plt.subplot(12,3,plotnumber)\n",
    "    sns.distplot(data_num[num_features])\n",
    "    plt.xlabel(num_features)\n",
    "    plotnumber+=1\n",
    "plt.show()"
   ]
  },
  {
   "cell_type": "code",
   "execution_count": 87,
   "id": "edad28d4",
   "metadata": {},
   "outputs": [
    {
     "data": {
      "text/plain": [
       "<AxesSubplot:xlabel='blood_glucose_level', ylabel='count'>"
      ]
     },
     "execution_count": 87,
     "metadata": {},
     "output_type": "execute_result"
    },
    {
     "data": {
      "image/png": "[encoded data removed]",
      "text/plain": [
       "<Figure size 1080x5760 with 1 Axes>"
      ]
     },
     "metadata": {},
     "output_type": "display_data"
    }
   ],
   "source": [
    "\n"
   ]
  },
  {
   "cell_type": "markdown",
   "id": "af823784",
   "metadata": {},
   "source": [
    "No feature is normally distributed"
   ]
  },
  {
   "cell_type": "code",
   "execution_count": 58,
   "id": "52e0ae6d",
   "metadata": {},
   "outputs": [
    {
     "data": {
      "image/png": "[encoded data removed]",
      "text/plain": [
       "<Figure size 1080x5760 with 2 Axes>"
      ]
     },
     "metadata": {},
     "output_type": "display_data"
    }
   ],
   "source": [
    "#EDA Categorical column\n",
    "plt.figure(figsize=(15,80), facecolor='white')\n",
    "plotnumber =1\n",
    "for cat_features in data_cat:\n",
    "    ax = plt.subplot(12,3,plotnumber)\n",
    "    sns.countplot(y=cat_features,data=data)\n",
    "    plt.xlabel(cat_features)\n",
    "    plt.title(cat_features)\n",
    "    plotnumber+=1\n",
    "plt.show()"
   ]
  },
  {
   "cell_type": "markdown",
   "id": "b98ee7f2",
   "metadata": {},
   "source": [
    "# Encoding"
   ]
  },
  {
   "cell_type": "code",
   "execution_count": 59,
   "id": "a24e591d",
   "metadata": {},
   "outputs": [
    {
     "data": {
      "text/plain": [
       "array(['never', 'No Info', 'current', 'former', 'ever', 'not current'],\n",
       "      dtype=object)"
      ]
     },
     "execution_count": 59,
     "metadata": {},
     "output_type": "execute_result"
    }
   ],
   "source": [
    "data['smoking_history'].unique()"
   ]
  },
  {
   "cell_type": "code",
   "execution_count": 60,
   "id": "a7ea01df",
   "metadata": {},
   "outputs": [
    {
     "data": {
      "text/plain": [
       "array(['Female', 'Male', 'Other'], dtype=object)"
      ]
     },
     "execution_count": 60,
     "metadata": {},
     "output_type": "execute_result"
    }
   ],
   "source": [
    "data['gender'].unique()"
   ]
  },
  {
   "cell_type": "code",
   "execution_count": 61,
   "id": "8c36068e",
   "metadata": {},
   "outputs": [],
   "source": [
    "#one hot Encoding\n",
    "from  sklearn.preprocessing import OneHotEncoder\n",
    "onehotencoder = OneHotEncoder()\n",
    "data['gender']= onehotencoder.fit_transform(data.gender.values.reshape(-1,1)).toarray()"
   ]
  },
  {
   "cell_type": "code",
   "execution_count": 62,
   "id": "d4a9f352",
   "metadata": {},
   "outputs": [
    {
     "data": {
      "text/plain": [
       "0          never\n",
       "1        No Info\n",
       "2          never\n",
       "3        current\n",
       "4        current\n",
       "          ...   \n",
       "99994    No Info\n",
       "99996    No Info\n",
       "99997     former\n",
       "99998      never\n",
       "99999    current\n",
       "Name: smoking_history, Length: 96146, dtype: object"
      ]
     },
     "execution_count": 62,
     "metadata": {},
     "output_type": "execute_result"
    }
   ],
   "source": [
    "data['smoking_history']"
   ]
  },
  {
   "cell_type": "code",
   "execution_count": 63,
   "id": "a48ddafc",
   "metadata": {},
   "outputs": [],
   "source": [
    "#label encoding\n",
    "from sklearn.preprocessing import LabelEncoder\n",
    "label=LabelEncoder()\n",
    "data['smoking_history']=label.fit_transform(data['smoking_history'])"
   ]
  },
  {
   "cell_type": "markdown",
   "id": "8f51da83",
   "metadata": {},
   "source": [
    "# Scaling"
   ]
  },
  {
   "cell_type": "code",
   "execution_count": 64,
   "id": "2fd1149f",
   "metadata": {},
   "outputs": [
    {
     "data": {
      "text/plain": [
       "Index(['age', 'hypertension', 'heart_disease', 'bmi', 'HbA1c_level',\n",
       "       'blood_glucose_level', 'diabetes'],\n",
       "      dtype='object')"
      ]
     },
     "execution_count": 64,
     "metadata": {},
     "output_type": "execute_result"
    }
   ],
   "source": [
    "data_num.columns"
   ]
  },
  {
   "cell_type": "code",
   "execution_count": 65,
   "id": "45ca63a6",
   "metadata": {},
   "outputs": [],
   "source": [
    "num_features=['gender', 'age', 'hypertension', 'heart_disease', 'smoking_history',\n",
    "       'bmi', 'HbA1c_level', 'blood_glucose_level', 'diabetes']"
   ]
  },
  {
   "cell_type": "code",
   "execution_count": 66,
   "id": "56db8bad",
   "metadata": {},
   "outputs": [],
   "source": [
    "#Min-Max Scaler\n",
    "scaler = MinMaxScaler(feature_range=(0, 1))\n",
    "\n",
    "data[num_features] = scaler.fit_transform(data[num_features]) "
   ]
  },
  {
   "cell_type": "code",
   "execution_count": 67,
   "id": "c1a77ff2",
   "metadata": {},
   "outputs": [
    {
     "data": {
      "text/html": [
       "<div>\n",
       "<style scoped>\n",
       "    .dataframe tbody tr th:only-of-type {\n",
       "        vertical-align: middle;\n",
       "    }\n",
       "\n",
       "    .dataframe tbody tr th {\n",
       "        vertical-align: top;\n",
       "    }\n",
       "\n",
       "    .dataframe thead th {\n",
       "        text-align: right;\n",
       "    }\n",
       "</style>\n",
       "<table border=\"1\" class=\"dataframe\">\n",
       "  <thead>\n",
       "    <tr style=\"text-align: right;\">\n",
       "      <th></th>\n",
       "      <th>gender</th>\n",
       "      <th>age</th>\n",
       "      <th>hypertension</th>\n",
       "      <th>heart_disease</th>\n",
       "      <th>smoking_history</th>\n",
       "      <th>bmi</th>\n",
       "      <th>HbA1c_level</th>\n",
       "      <th>blood_glucose_level</th>\n",
       "      <th>diabetes</th>\n",
       "    </tr>\n",
       "  </thead>\n",
       "  <tbody>\n",
       "    <tr>\n",
       "      <th>0</th>\n",
       "      <td>1.0</td>\n",
       "      <td>1.000000</td>\n",
       "      <td>0.0</td>\n",
       "      <td>1.0</td>\n",
       "      <td>0.8</td>\n",
       "      <td>0.177171</td>\n",
       "      <td>0.563636</td>\n",
       "      <td>0.272727</td>\n",
       "      <td>0.0</td>\n",
       "    </tr>\n",
       "    <tr>\n",
       "      <th>1</th>\n",
       "      <td>1.0</td>\n",
       "      <td>0.674675</td>\n",
       "      <td>0.0</td>\n",
       "      <td>0.0</td>\n",
       "      <td>0.0</td>\n",
       "      <td>0.202031</td>\n",
       "      <td>0.563636</td>\n",
       "      <td>0.000000</td>\n",
       "      <td>0.0</td>\n",
       "    </tr>\n",
       "    <tr>\n",
       "      <th>2</th>\n",
       "      <td>0.0</td>\n",
       "      <td>0.349349</td>\n",
       "      <td>0.0</td>\n",
       "      <td>0.0</td>\n",
       "      <td>0.8</td>\n",
       "      <td>0.202031</td>\n",
       "      <td>0.400000</td>\n",
       "      <td>0.354545</td>\n",
       "      <td>0.0</td>\n",
       "    </tr>\n",
       "    <tr>\n",
       "      <th>3</th>\n",
       "      <td>1.0</td>\n",
       "      <td>0.449449</td>\n",
       "      <td>0.0</td>\n",
       "      <td>0.0</td>\n",
       "      <td>0.2</td>\n",
       "      <td>0.156863</td>\n",
       "      <td>0.272727</td>\n",
       "      <td>0.340909</td>\n",
       "      <td>0.0</td>\n",
       "    </tr>\n",
       "    <tr>\n",
       "      <th>4</th>\n",
       "      <td>0.0</td>\n",
       "      <td>0.949950</td>\n",
       "      <td>1.0</td>\n",
       "      <td>1.0</td>\n",
       "      <td>0.2</td>\n",
       "      <td>0.118231</td>\n",
       "      <td>0.236364</td>\n",
       "      <td>0.340909</td>\n",
       "      <td>0.0</td>\n",
       "    </tr>\n",
       "    <tr>\n",
       "      <th>...</th>\n",
       "      <td>...</td>\n",
       "      <td>...</td>\n",
       "      <td>...</td>\n",
       "      <td>...</td>\n",
       "      <td>...</td>\n",
       "      <td>...</td>\n",
       "      <td>...</td>\n",
       "      <td>...</td>\n",
       "      <td>...</td>\n",
       "    </tr>\n",
       "    <tr>\n",
       "      <th>99994</th>\n",
       "      <td>1.0</td>\n",
       "      <td>0.449449</td>\n",
       "      <td>0.0</td>\n",
       "      <td>0.0</td>\n",
       "      <td>0.0</td>\n",
       "      <td>0.170285</td>\n",
       "      <td>0.236364</td>\n",
       "      <td>0.295455</td>\n",
       "      <td>0.0</td>\n",
       "    </tr>\n",
       "    <tr>\n",
       "      <th>99996</th>\n",
       "      <td>1.0</td>\n",
       "      <td>0.024024</td>\n",
       "      <td>0.0</td>\n",
       "      <td>0.0</td>\n",
       "      <td>0.0</td>\n",
       "      <td>0.085901</td>\n",
       "      <td>0.545455</td>\n",
       "      <td>0.090909</td>\n",
       "      <td>0.0</td>\n",
       "    </tr>\n",
       "    <tr>\n",
       "      <th>99997</th>\n",
       "      <td>0.0</td>\n",
       "      <td>0.824825</td>\n",
       "      <td>0.0</td>\n",
       "      <td>0.0</td>\n",
       "      <td>0.6</td>\n",
       "      <td>0.207983</td>\n",
       "      <td>0.400000</td>\n",
       "      <td>0.340909</td>\n",
       "      <td>0.0</td>\n",
       "    </tr>\n",
       "    <tr>\n",
       "      <th>99998</th>\n",
       "      <td>1.0</td>\n",
       "      <td>0.299299</td>\n",
       "      <td>0.0</td>\n",
       "      <td>0.0</td>\n",
       "      <td>0.8</td>\n",
       "      <td>0.296569</td>\n",
       "      <td>0.090909</td>\n",
       "      <td>0.090909</td>\n",
       "      <td>0.0</td>\n",
       "    </tr>\n",
       "    <tr>\n",
       "      <th>99999</th>\n",
       "      <td>1.0</td>\n",
       "      <td>0.712212</td>\n",
       "      <td>0.0</td>\n",
       "      <td>0.0</td>\n",
       "      <td>0.2</td>\n",
       "      <td>0.144958</td>\n",
       "      <td>0.563636</td>\n",
       "      <td>0.045455</td>\n",
       "      <td>0.0</td>\n",
       "    </tr>\n",
       "  </tbody>\n",
       "</table>\n",
       "<p>96146 rows × 9 columns</p>\n",
       "</div>"
      ],
      "text/plain": [
       "       gender       age  hypertension  heart_disease  smoking_history  \\\n",
       "0         1.0  1.000000           0.0            1.0              0.8   \n",
       "1         1.0  0.674675           0.0            0.0              0.0   \n",
       "2         0.0  0.349349           0.0            0.0              0.8   \n",
       "3         1.0  0.449449           0.0            0.0              0.2   \n",
       "4         0.0  0.949950           1.0            1.0              0.2   \n",
       "...       ...       ...           ...            ...              ...   \n",
       "99994     1.0  0.449449           0.0            0.0              0.0   \n",
       "99996     1.0  0.024024           0.0            0.0              0.0   \n",
       "99997     0.0  0.824825           0.0            0.0              0.6   \n",
       "99998     1.0  0.299299           0.0            0.0              0.8   \n",
       "99999     1.0  0.712212           0.0            0.0              0.2   \n",
       "\n",
       "            bmi  HbA1c_level  blood_glucose_level  diabetes  \n",
       "0      0.177171     0.563636             0.272727       0.0  \n",
       "1      0.202031     0.563636             0.000000       0.0  \n",
       "2      0.202031     0.400000             0.354545       0.0  \n",
       "3      0.156863     0.272727             0.340909       0.0  \n",
       "4      0.118231     0.236364             0.340909       0.0  \n",
       "...         ...          ...                  ...       ...  \n",
       "99994  0.170285     0.236364             0.295455       0.0  \n",
       "99996  0.085901     0.545455             0.090909       0.0  \n",
       "99997  0.207983     0.400000             0.340909       0.0  \n",
       "99998  0.296569     0.090909             0.090909       0.0  \n",
       "99999  0.144958     0.563636             0.045455       0.0  \n",
       "\n",
       "[96146 rows x 9 columns]"
      ]
     },
     "execution_count": 67,
     "metadata": {},
     "output_type": "execute_result"
    }
   ],
   "source": [
    "data"
   ]
  },
  {
   "cell_type": "code",
   "execution_count": 68,
   "id": "40c6b983",
   "metadata": {},
   "outputs": [],
   "source": [
    "#splitting Data in x and y\n",
    "x=data.drop(['diabetes'],axis=1)\n",
    "y=data['diabetes']"
   ]
  },
  {
   "cell_type": "code",
   "execution_count": 69,
   "id": "db6e7d2a",
   "metadata": {},
   "outputs": [],
   "source": [
    "#splitting data into train and split\n",
    "x_train,y_train,x_test,y_test=train_test_split(x,y,test_size=0.3,random_state=42,stratify=y)\n"
   ]
  },
  {
   "cell_type": "code",
   "execution_count": 70,
   "id": "ecf12b4c",
   "metadata": {},
   "outputs": [
    {
     "data": {
      "text/plain": [
       "((67302, 8), (67302,))"
      ]
     },
     "execution_count": 70,
     "metadata": {},
     "output_type": "execute_result"
    }
   ],
   "source": [
    "x_train.shape, x_test.shape"
   ]
  },
  {
   "cell_type": "code",
   "execution_count": 74,
   "id": "17995df9",
   "metadata": {},
   "outputs": [
    {
     "name": "stdout",
     "output_type": "stream",
     "text": [
      "The number of Classes before fit Counter({0.0: 61397, 1.0: 5905})\n",
      "The number of Classes after fit Counter({0.0: 61397, 1.0: 61397})\n"
     ]
    }
   ],
   "source": [
    "## Oversampling\n",
    "x_train, x_test, y_train, y_test = train_test_split(x,y,train_size= 0.7,random_state=42)\n",
    "smote=SMOTE()\n",
    "x_train_os, y_train_os = smote.fit_resample(x_train, y_train)\n",
    "print(\"The number of Classes before fit {}\".format(Counter(y_train)))\n",
    "print(\"The number of Classes after fit {}\".format(Counter(y_train_os)))"
   ]
  },
  {
   "cell_type": "markdown",
   "id": "197473f6",
   "metadata": {},
   "source": [
    "# Model Building"
   ]
  },
  {
   "cell_type": "markdown",
   "id": "e904dbd0",
   "metadata": {},
   "source": [
    "# Logistic regression"
   ]
  },
  {
   "cell_type": "code",
   "execution_count": 75,
   "id": "1de18697",
   "metadata": {},
   "outputs": [],
   "source": [
    "from sklearn.linear_model import LogisticRegression\n",
    "lr=LogisticRegression(penalty='l2',C=1, random_state = 40,solver='lbfgs',max_iter=100,multi_class='auto')\n",
    "lr.fit(x_train_os,y_train_os)\n",
    "ypred=lr.predict(x_test)"
   ]
  },
  {
   "cell_type": "code",
   "execution_count": 76,
   "id": "e6c7eee2",
   "metadata": {},
   "outputs": [
    {
     "data": {
      "text/plain": [
       "0.8856607960061018"
      ]
     },
     "execution_count": 76,
     "metadata": {},
     "output_type": "execute_result"
    }
   ],
   "source": [
    "lr.score(x_test,y_test)"
   ]
  },
  {
   "cell_type": "code",
   "execution_count": 81,
   "id": "b89bb426",
   "metadata": {},
   "outputs": [
    {
     "name": "stdout",
     "output_type": "stream",
     "text": [
      "Accuracy: 0.8856607960061018\n",
      "Precision: 0.4319682959048877\n",
      "Recall: 0.8882421420256111\n"
     ]
    }
   ],
   "source": [
    "print(\"Accuracy:\",metrics.accuracy_score(y_test, ypred))\n",
    "print(\"Precision:\",metrics.precision_score(y_test, ypred))\n",
    "print(\"Recall:\",metrics.recall_score(y_test, ypred))"
   ]
  },
  {
   "cell_type": "code",
   "execution_count": 83,
   "id": "372ae19a",
   "metadata": {},
   "outputs": [
    {
     "data": {
      "text/plain": [
       "array([[23257,  3010],\n",
       "       [  288,  2289]], dtype=int64)"
      ]
     },
     "execution_count": 83,
     "metadata": {},
     "output_type": "execute_result"
    }
   ],
   "source": [
    "confusion_matrix(y_test,ypred)\n"
   ]
  },
  {
   "cell_type": "code",
   "execution_count": 89,
   "id": "ba6ba1a1",
   "metadata": {},
   "outputs": [
    {
     "data": {
      "image/png": "[encoded data removed]",
      "text/plain": [
       "<Figure size 432x288 with 2 Axes>"
      ]
     },
     "metadata": {},
     "output_type": "display_data"
    }
   ],
   "source": [
    "from sklearn.metrics import plot_confusion_matrix\n",
    "plot_3 = plot_confusion_matrix(lr, x_test, y_test, display_labels =[\"NO\",\"YES\"], cmap = plt.cm.Reds, values_format = '.2f')\n",
    "plot_3.figure_.suptitle(\"Confusion Matrix\")\n",
    "plt.show()"
   ]
  },
  {
   "cell_type": "markdown",
   "id": "c00839b4",
   "metadata": {},
   "source": [
    "# Decision tree"
   ]
  },
  {
   "cell_type": "code",
   "execution_count": 90,
   "id": "41f36d7a",
   "metadata": {},
   "outputs": [
    {
     "data": {
      "text/plain": [
       "array([0., 0., 1., ..., 0., 0., 0.])"
      ]
     },
     "execution_count": 90,
     "metadata": {},
     "output_type": "execute_result"
    }
   ],
   "source": [
    "from sklearn.tree import DecisionTreeClassifier\n",
    "deseciontree_model=DecisionTreeClassifier(max_depth = 10, random_state = 40)\n",
    "deseciontree_model.fit(x_train_os, y_train_os)\n",
    "y_predicted_deseciontree = deseciontree_model.predict(x_test)\n",
    "y_predicted_deseciontree"
   ]
  },
  {
   "cell_type": "code",
   "execution_count": 91,
   "id": "90b07635",
   "metadata": {},
   "outputs": [
    {
     "data": {
      "text/plain": [
       "0.9085771737623076"
      ]
     },
     "execution_count": 91,
     "metadata": {},
     "output_type": "execute_result"
    }
   ],
   "source": [
    "deseciontree_model.score(x_test,y_test)"
   ]
  },
  {
   "cell_type": "code",
   "execution_count": 93,
   "id": "3ed5363e",
   "metadata": {},
   "outputs": [
    {
     "name": "stdout",
     "output_type": "stream",
     "text": [
      "Accuracy: 0.9085771737623076\n",
      "Precision: 0.49327354260089684\n",
      "Recall: 0.8537058595265813\n"
     ]
    }
   ],
   "source": [
    "deseciontree_model.score(x_test,y_test)\n",
    "print(\"Accuracy:\",metrics.accuracy_score(y_test,y_predicted_deseciontree))\n",
    "print(\"Precision:\",metrics.precision_score(y_test,y_predicted_deseciontree))\n",
    "print(\"Recall:\",metrics.recall_score(y_test, y_predicted_deseciontree))"
   ]
  },
  {
   "cell_type": "code",
   "execution_count": 94,
   "id": "2975cc1c",
   "metadata": {},
   "outputs": [
    {
     "data": {
      "text/plain": [
       "array([[24007,  2260],\n",
       "       [  377,  2200]], dtype=int64)"
      ]
     },
     "execution_count": 94,
     "metadata": {},
     "output_type": "execute_result"
    }
   ],
   "source": [
    "confusion_matrix(y_test,y_predicted_deseciontree)"
   ]
  },
  {
   "cell_type": "code",
   "execution_count": 95,
   "id": "2e3c7741",
   "metadata": {},
   "outputs": [
    {
     "data": {
      "image/png": "[encoded data removed]",
      "text/plain": [
       "<Figure size 432x288 with 2 Axes>"
      ]
     },
     "metadata": {},
     "output_type": "display_data"
    }
   ],
   "source": [
    "from sklearn.metrics import plot_confusion_matrix\n",
    "plot_3 = plot_confusion_matrix(deseciontree_model, x_test, y_test, display_labels =[\"NO\",\"YES\"], cmap = plt.cm.Reds, values_format = '.2f')\n",
    "plot_3.figure_.suptitle(\"Confusion Matrix\")\n",
    "plt.show()"
   ]
  },
  {
   "cell_type": "markdown",
   "id": "3534c19e",
   "metadata": {},
   "source": [
    "# KNN"
   ]
  },
  {
   "cell_type": "code",
   "execution_count": 96,
   "id": "a341ff8e",
   "metadata": {},
   "outputs": [
    {
     "data": {
      "text/plain": [
       "array([0., 0., 1., ..., 0., 1., 0.])"
      ]
     },
     "execution_count": 96,
     "metadata": {},
     "output_type": "execute_result"
    }
   ],
   "source": [
    "from sklearn.neighbors import KNeighborsClassifier\n",
    "KNN_model = KNeighborsClassifier(n_neighbors = 5, metric = 'minkowski', p = 2)\n",
    "KNN_model.fit(x_train_os, y_train_os)\n",
    "y_predicted_KNN = KNN_model.predict(x_test)\n",
    "y_predicted_KNN "
   ]
  },
  {
   "cell_type": "code",
   "execution_count": 97,
   "id": "41fb9cba",
   "metadata": {},
   "outputs": [
    {
     "data": {
      "text/plain": [
       "0.9087158507835251"
      ]
     },
     "execution_count": 97,
     "metadata": {},
     "output_type": "execute_result"
    }
   ],
   "source": [
    "KNN_model.score(x_test,y_test)"
   ]
  },
  {
   "cell_type": "code",
   "execution_count": 98,
   "id": "6244f2a0",
   "metadata": {},
   "outputs": [
    {
     "name": "stdout",
     "output_type": "stream",
     "text": [
      "Accuracy: 0.9087158507835251\n",
      "Precision: 0.4934272300469484\n",
      "Recall: 0.8156771439658518\n"
     ]
    }
   ],
   "source": [
    "print(\"Accuracy:\",metrics.accuracy_score(y_test, y_predicted_KNN))\n",
    "print(\"Precision:\",metrics.precision_score(y_test,y_predicted_KNN))\n",
    "print(\"Recall:\",metrics.recall_score(y_test, y_predicted_KNN))"
   ]
  },
  {
   "cell_type": "code",
   "execution_count": 99,
   "id": "6206beb6",
   "metadata": {},
   "outputs": [
    {
     "data": {
      "text/plain": [
       "array([[24109,  2158],\n",
       "       [  475,  2102]], dtype=int64)"
      ]
     },
     "execution_count": 99,
     "metadata": {},
     "output_type": "execute_result"
    }
   ],
   "source": [
    "cm=confusion_matrix(y_test,y_predicted_KNN)\n",
    "cm"
   ]
  },
  {
   "cell_type": "code",
   "execution_count": 101,
   "id": "232edd4d",
   "metadata": {},
   "outputs": [
    {
     "data": {
      "image/png": "[encoded data removed]",
      "text/plain": [
       "<Figure size 432x288 with 2 Axes>"
      ]
     },
     "metadata": {},
     "output_type": "display_data"
    }
   ],
   "source": [
    "from sklearn.metrics import plot_confusion_matrix\n",
    "plot_3 = plot_confusion_matrix(KNN_model, x_test, y_test, display_labels =[\"NO\",\"YES\"], cmap = plt.cm.Reds, values_format = '.2f')\n",
    "plot_3.figure_.suptitle(\"Confusion Matrix\")\n",
    "plt.show()"
   ]
  },
  {
   "cell_type": "markdown",
   "id": "9a1c73fe",
   "metadata": {},
   "source": [
    "# Naive Bayes"
   ]
  },
  {
   "cell_type": "code",
   "execution_count": 102,
   "id": "8e8202f8",
   "metadata": {},
   "outputs": [
    {
     "data": {
      "text/plain": [
       "array([0., 0., 1., ..., 0., 0., 0.])"
      ]
     },
     "execution_count": 102,
     "metadata": {},
     "output_type": "execute_result"
    }
   ],
   "source": [
    "from sklearn.naive_bayes import GaussianNB\n",
    "naive_bayes_model= GaussianNB()\n",
    "naive_bayes_model.fit(x_train_os, y_train_os)\n",
    "y_predicted_naive = naive_bayes_model.predict(x_test)\n",
    "y_predicted_naive"
   ]
  },
  {
   "cell_type": "code",
   "execution_count": 103,
   "id": "2b49ca6e",
   "metadata": {},
   "outputs": [
    {
     "data": {
      "text/plain": [
       "0.8856261267507974"
      ]
     },
     "execution_count": 103,
     "metadata": {},
     "output_type": "execute_result"
    }
   ],
   "source": [
    "naive_bayes_model.score(x_test,y_test)"
   ]
  },
  {
   "cell_type": "code",
   "execution_count": 104,
   "id": "f9ed063c",
   "metadata": {},
   "outputs": [
    {
     "name": "stdout",
     "output_type": "stream",
     "text": [
      "Accuracy: 0.8856261267507974\n",
      "Precision: 0.42335456475583866\n",
      "Recall: 0.7737679472254559\n"
     ]
    }
   ],
   "source": [
    "print(\"Accuracy:\",metrics.accuracy_score(y_test, y_predicted_naive))\n",
    "print(\"Precision:\",metrics.precision_score(y_test,y_predicted_naive))\n",
    "print(\"Recall:\",metrics.recall_score(y_test, y_predicted_naive))"
   ]
  },
  {
   "cell_type": "code",
   "execution_count": 105,
   "id": "ea36beb5",
   "metadata": {},
   "outputs": [
    {
     "data": {
      "text/plain": [
       "array([[23551,  2716],\n",
       "       [  583,  1994]], dtype=int64)"
      ]
     },
     "execution_count": 105,
     "metadata": {},
     "output_type": "execute_result"
    }
   ],
   "source": [
    "confusion_matrix(y_test,y_predicted_naive)"
   ]
  },
  {
   "cell_type": "code",
   "execution_count": 106,
   "id": "3e24e59d",
   "metadata": {},
   "outputs": [
    {
     "data": {
      "image/png": "[encoded data removed]",
      "text/plain": [
       "<Figure size 432x288 with 2 Axes>"
      ]
     },
     "metadata": {},
     "output_type": "display_data"
    }
   ],
   "source": [
    "from sklearn.metrics import plot_confusion_matrix\n",
    "plot_3 = plot_confusion_matrix(naive_bayes_model, x_test, y_test, display_labels =[\"NO\",\"YES\"], cmap = plt.cm.Reds, values_format = '.2f')\n",
    "plot_3.figure_.suptitle(\"Confusion Matrix\")\n",
    "plt.show()"
   ]
  },
  {
   "cell_type": "markdown",
   "id": "104650e1",
   "metadata": {},
   "source": [
    "# Random Forest"
   ]
  },
  {
   "cell_type": "code",
   "execution_count": 107,
   "id": "76a0324d",
   "metadata": {},
   "outputs": [
    {
     "data": {
      "text/plain": [
       "array([0., 0., 1., ..., 0., 0., 0.])"
      ]
     },
     "execution_count": 107,
     "metadata": {},
     "output_type": "execute_result"
    }
   ],
   "source": [
    "from sklearn.ensemble import RandomForestClassifier\n",
    "randomforest_model= RandomForestClassifier(n_estimators = 10)\n",
    "randomforest_model.fit(x_train_os, y_train_os)\n",
    "y_predicted_randomforest = randomforest_model.predict(x_test)\n",
    "y_predicted_randomforest"
   ]
  },
  {
   "cell_type": "code",
   "execution_count": 108,
   "id": "cd0bc39e",
   "metadata": {},
   "outputs": [
    {
     "data": {
      "text/plain": [
       "0.9558313687421994"
      ]
     },
     "execution_count": 108,
     "metadata": {},
     "output_type": "execute_result"
    }
   ],
   "source": [
    "randomforest_model.score(x_test,y_test)"
   ]
  },
  {
   "cell_type": "code",
   "execution_count": 109,
   "id": "ab4178c1",
   "metadata": {},
   "outputs": [
    {
     "name": "stdout",
     "output_type": "stream",
     "text": [
      "Accuracy: 0.9558313687421994\n",
      "Precision: 0.7563951200314837\n",
      "Recall: 0.7458284827318588\n"
     ]
    }
   ],
   "source": [
    "print(\"Accuracy:\",metrics.accuracy_score(y_test,y_predicted_randomforest))\n",
    "print(\"Precision:\",metrics.precision_score(y_test,y_predicted_randomforest))\n",
    "print(\"Recall:\",metrics.recall_score(y_test, y_predicted_randomforest))"
   ]
  },
  {
   "cell_type": "code",
   "execution_count": 110,
   "id": "1d612625",
   "metadata": {},
   "outputs": [
    {
     "data": {
      "text/plain": [
       "array([[25648,   619],\n",
       "       [  655,  1922]], dtype=int64)"
      ]
     },
     "execution_count": 110,
     "metadata": {},
     "output_type": "execute_result"
    }
   ],
   "source": [
    "confusion_matrix(y_test,y_predicted_randomforest)"
   ]
  },
  {
   "cell_type": "code",
   "execution_count": 111,
   "id": "9ca25ca0",
   "metadata": {},
   "outputs": [
    {
     "data": {
      "image/png": "[encoded data removed]",
      "text/plain": [
       "<Figure size 432x288 with 2 Axes>"
      ]
     },
     "metadata": {},
     "output_type": "display_data"
    }
   ],
   "source": [
    "from sklearn.metrics import plot_confusion_matrix\n",
    "plot_3 = plot_confusion_matrix(randomforest_model, x_test, y_test, display_labels =[\"NO\",\"YES\"], cmap = plt.cm.Reds, values_format = '.2f')\n",
    "plot_3.figure_.suptitle(\"Confusion Matrix\")\n",
    "plt.show()"
   ]
  },
  {
   "cell_type": "markdown",
   "id": "83dc06ef",
   "metadata": {},
   "source": [
    "# ADABoost"
   ]
  },
  {
   "cell_type": "code",
   "execution_count": 122,
   "id": "faab410b",
   "metadata": {},
   "outputs": [
    {
     "data": {
      "text/plain": [
       "array([0., 0., 1., ..., 0., 0., 0.])"
      ]
     },
     "execution_count": 122,
     "metadata": {},
     "output_type": "execute_result"
    }
   ],
   "source": [
    "from sklearn.ensemble import AdaBoostClassifier\n",
    "adaboostmodel = AdaBoostClassifier(random_state=1)\n",
    "adaboostmodel.fit(x_train_os, y_train_os)\n",
    "y_predicted_ada = adaboostmodel.predict(x_test)\n",
    "y_predicted_ada"
   ]
  },
  {
   "cell_type": "code",
   "execution_count": 123,
   "id": "a967c9a8",
   "metadata": {},
   "outputs": [
    {
     "data": {
      "text/plain": [
       "0.937595340452087"
      ]
     },
     "execution_count": 123,
     "metadata": {},
     "output_type": "execute_result"
    }
   ],
   "source": [
    "adaboostmodel.score(x_test,y_test)"
   ]
  },
  {
   "cell_type": "code",
   "execution_count": 124,
   "id": "55e28755",
   "metadata": {},
   "outputs": [
    {
     "name": "stdout",
     "output_type": "stream",
     "text": [
      "Accuracy: 0.937595340452087\n",
      "Precision: 0.6109049386240365\n",
      "Recall: 0.8304229724485837\n"
     ]
    }
   ],
   "source": [
    "print(\"Accuracy:\",metrics.accuracy_score(y_test,y_predicted_ada))\n",
    "print(\"Precision:\",metrics.precision_score(y_test,y_predicted_ada))\n",
    "print(\"Recall:\",metrics.recall_score(y_test,y_predicted_ada))"
   ]
  },
  {
   "cell_type": "code",
   "execution_count": 125,
   "id": "a873ccda",
   "metadata": {},
   "outputs": [
    {
     "data": {
      "text/plain": [
       "array([[24904,  1363],\n",
       "       [  437,  2140]], dtype=int64)"
      ]
     },
     "execution_count": 125,
     "metadata": {},
     "output_type": "execute_result"
    }
   ],
   "source": [
    "confusion_matrix(y_test,y_predicted_ada)"
   ]
  },
  {
   "cell_type": "code",
   "execution_count": 126,
   "id": "12a39153",
   "metadata": {},
   "outputs": [
    {
     "data": {
      "image/png": "[encoded data removed]",
      "text/plain": [
       "<Figure size 432x288 with 2 Axes>"
      ]
     },
     "metadata": {},
     "output_type": "display_data"
    }
   ],
   "source": [
    "from sklearn.metrics import plot_confusion_matrix\n",
    "plot_3 = plot_confusion_matrix(adaboostmodel, x_test, y_test, display_labels =[\"NO\",\"YES\"], cmap = plt.cm.Reds, values_format = '.2f')\n",
    "plot_3.figure_.suptitle(\"Confusion Matrix\")\n",
    "plt.show()"
   ]
  },
  {
   "cell_type": "markdown",
   "id": "0897d7ad",
   "metadata": {},
   "source": [
    "# XG Boost"
   ]
  },
  {
   "cell_type": "code",
   "execution_count": 127,
   "id": "5d53905e",
   "metadata": {},
   "outputs": [
    {
     "data": {
      "application/javascript": [
       "\n",
       "        if (window._pyforest_update_imports_cell) { window._pyforest_update_imports_cell('import statistics\\nfrom sklearn.model_selection import GridSearchCV\\nimport xgboost as xgb\\nfrom sklearn import metrics'); }\n",
       "    "
      ],
      "text/plain": [
       "<IPython.core.display.Javascript object>"
      ]
     },
     "metadata": {},
     "output_type": "display_data"
    }
   ],
   "source": [
    "from xgboost import XGBClassifier\n",
    "xgboost=xgb.XGBClassifier(random_state=1,learning_rate=0.01)\n",
    "xgboost.fit(x_train_os, y_train_os)\n",
    "y_predicted_xg = xgboost.predict(x_test)\n"
   ]
  },
  {
   "cell_type": "code",
   "execution_count": 129,
   "id": "05e2f9f1",
   "metadata": {},
   "outputs": [
    {
     "data": {
      "text/plain": [
       "0.8828179170711413"
      ]
     },
     "execution_count": 129,
     "metadata": {},
     "output_type": "execute_result"
    }
   ],
   "source": [
    "xgboost.score(x_test,y_test)"
   ]
  },
  {
   "cell_type": "code",
   "execution_count": 130,
   "id": "310214f0",
   "metadata": {},
   "outputs": [
    {
     "name": "stdout",
     "output_type": "stream",
     "text": [
      "Accuracy: 0.8828179170711413\n",
      "Precision: 0.42615412911532097\n",
      "Recall: 0.8991074893286768\n"
     ]
    }
   ],
   "source": [
    "print(\"Accuracy:\",metrics.accuracy_score(y_test,y_predicted_xg))\n",
    "print(\"Precision:\",metrics.precision_score(y_test,y_predicted_xg))\n",
    "print(\"Recall:\",metrics.recall_score(y_test,y_predicted_xg))"
   ]
  },
  {
   "cell_type": "code",
   "execution_count": 131,
   "id": "4b9e32d1",
   "metadata": {},
   "outputs": [
    {
     "data": {
      "image/png": "[encoded data removed]",
      "text/plain": [
       "<Figure size 432x288 with 2 Axes>"
      ]
     },
     "metadata": {},
     "output_type": "display_data"
    }
   ],
   "source": [
    "from sklearn.metrics import plot_confusion_matrix\n",
    "plot_3 = plot_confusion_matrix(xgboost, x_test, y_test, display_labels =[\"NO\",\"YES\"], cmap = plt.cm.Reds, values_format = '.2f')\n",
    "plot_3.figure_.suptitle(\"Confusion Matrix\")\n",
    "plt.show()"
   ]
  },
  {
   "cell_type": "markdown",
   "id": "9beaee11",
   "metadata": {},
   "source": [
    "# Gradient Boost"
   ]
  },
  {
   "cell_type": "code",
   "execution_count": 132,
   "id": "faee5bf0",
   "metadata": {},
   "outputs": [],
   "source": [
    "from sklearn.ensemble import GradientBoostingClassifier\n",
    "GradientBoosting= GradientBoostingClassifier(learning_rate=0.01,random_state=1)\n",
    "GradientBoosting.fit(x_train_os, y_train_os)\n",
    "y_predicted_gb = xgboost.predict(x_test)"
   ]
  },
  {
   "cell_type": "code",
   "execution_count": 133,
   "id": "4a4a7133",
   "metadata": {},
   "outputs": [
    {
     "data": {
      "text/plain": [
       "0.8960615725974206"
      ]
     },
     "execution_count": 133,
     "metadata": {},
     "output_type": "execute_result"
    }
   ],
   "source": [
    "GradientBoosting.score(x_test,y_test)"
   ]
  },
  {
   "cell_type": "code",
   "execution_count": 134,
   "id": "36c3b964",
   "metadata": {},
   "outputs": [
    {
     "name": "stdout",
     "output_type": "stream",
     "text": [
      "Accuracy: 0.8828179170711413\n",
      "Precision: 0.42615412911532097\n",
      "Recall: 0.8991074893286768\n"
     ]
    }
   ],
   "source": [
    "print(\"Accuracy:\",metrics.accuracy_score(y_test,y_predicted_gb))\n",
    "print(\"Precision:\",metrics.precision_score(y_test,y_predicted_gb))\n",
    "print(\"Recall:\",metrics.recall_score(y_test,y_predicted_gb))"
   ]
  },
  {
   "cell_type": "code",
   "execution_count": 135,
   "id": "f7e9caf6",
   "metadata": {},
   "outputs": [
    {
     "data": {
      "image/png": "[encoded data removed]",
      "text/plain": [
       "<Figure size 432x288 with 2 Axes>"
      ]
     },
     "metadata": {},
     "output_type": "display_data"
    }
   ],
   "source": [
    "from sklearn.metrics import plot_confusion_matrix\n",
    "plot_3 = plot_confusion_matrix(GradientBoosting, x_test, y_test, display_labels =[\"NO\",\"YES\"], cmap = plt.cm.Reds, values_format = '.2f')\n",
    "plot_3.figure_.suptitle(\"Confusion Matrix\")\n",
    "plt.show()"
   ]
  },
  {
   "cell_type": "code",
   "execution_count": 138,
   "id": "05852b5d",
   "metadata": {},
   "outputs": [
    {
     "data": {
      "image/png": "[encoded data removed]",
      "text/plain": [
       "<Figure size 432x288 with 1 Axes>"
      ]
     },
     "metadata": {},
     "output_type": "display_data"
    }
   ],
   "source": [
    "# ROC plot\n",
    "from sklearn.metrics import plot_roc_curve\n",
    "classifiers = [deseciontree_model, lr, KNN_model, naive_bayes_model,randomforest_model,adaboostmodel,xgboost,GradientBoosting]\n",
    "ax = plt.gca()\n",
    "for i in classifiers:\n",
    "    plot_roc_curve(i, x_test , y_test, ax=ax)"
   ]
  },
  {
   "cell_type": "markdown",
   "id": "0a0c44bc",
   "metadata": {},
   "source": [
    "# Final Analysis"
   ]
  },
  {
   "cell_type": "code",
   "execution_count": 139,
   "id": "26c816d6",
   "metadata": {},
   "outputs": [
    {
     "data": {
      "text/html": [
       "<div>\n",
       "<style scoped>\n",
       "    .dataframe tbody tr th:only-of-type {\n",
       "        vertical-align: middle;\n",
       "    }\n",
       "\n",
       "    .dataframe tbody tr th {\n",
       "        vertical-align: top;\n",
       "    }\n",
       "\n",
       "    .dataframe thead th {\n",
       "        text-align: right;\n",
       "    }\n",
       "</style>\n",
       "<table border=\"1\" class=\"dataframe\">\n",
       "  <thead>\n",
       "    <tr style=\"text-align: right;\">\n",
       "      <th></th>\n",
       "      <th>Model</th>\n",
       "      <th>Accuracy</th>\n",
       "      <th>Precision</th>\n",
       "      <th>Recall</th>\n",
       "    </tr>\n",
       "  </thead>\n",
       "  <tbody>\n",
       "    <tr>\n",
       "      <th>0</th>\n",
       "      <td>DescisionTree</td>\n",
       "      <td>0.908577</td>\n",
       "      <td>0.493274</td>\n",
       "      <td>0.853706</td>\n",
       "    </tr>\n",
       "    <tr>\n",
       "      <th>1</th>\n",
       "      <td>LogisticRegression</td>\n",
       "      <td>0.885661</td>\n",
       "      <td>0.431968</td>\n",
       "      <td>0.888242</td>\n",
       "    </tr>\n",
       "    <tr>\n",
       "      <th>2</th>\n",
       "      <td>KNeighborsClassifier</td>\n",
       "      <td>0.908716</td>\n",
       "      <td>0.493427</td>\n",
       "      <td>0.815677</td>\n",
       "    </tr>\n",
       "    <tr>\n",
       "      <th>3</th>\n",
       "      <td>GaussianNB</td>\n",
       "      <td>0.885626</td>\n",
       "      <td>0.423355</td>\n",
       "      <td>0.773768</td>\n",
       "    </tr>\n",
       "    <tr>\n",
       "      <th>4</th>\n",
       "      <td>RandomForestClassifier</td>\n",
       "      <td>0.955831</td>\n",
       "      <td>0.756395</td>\n",
       "      <td>0.745828</td>\n",
       "    </tr>\n",
       "    <tr>\n",
       "      <th>5</th>\n",
       "      <td>Adaboost model</td>\n",
       "      <td>0.937595</td>\n",
       "      <td>0.610905</td>\n",
       "      <td>0.830423</td>\n",
       "    </tr>\n",
       "    <tr>\n",
       "      <th>6</th>\n",
       "      <td>Xgboost</td>\n",
       "      <td>0.882818</td>\n",
       "      <td>0.426154</td>\n",
       "      <td>0.899107</td>\n",
       "    </tr>\n",
       "    <tr>\n",
       "      <th>7</th>\n",
       "      <td>Gradient Boosting</td>\n",
       "      <td>0.896062</td>\n",
       "      <td>0.426154</td>\n",
       "      <td>0.899107</td>\n",
       "    </tr>\n",
       "  </tbody>\n",
       "</table>\n",
       "</div>"
      ],
      "text/plain": [
       "                    Model  Accuracy  Precision    Recall\n",
       "0           DescisionTree  0.908577   0.493274  0.853706\n",
       "1      LogisticRegression  0.885661   0.431968  0.888242\n",
       "2    KNeighborsClassifier  0.908716   0.493427  0.815677\n",
       "3              GaussianNB  0.885626   0.423355  0.773768\n",
       "4  RandomForestClassifier  0.955831   0.756395  0.745828\n",
       "5          Adaboost model  0.937595   0.610905  0.830423\n",
       "6                 Xgboost  0.882818   0.426154  0.899107\n",
       "7       Gradient Boosting  0.896062   0.426154  0.899107"
      ]
     },
     "execution_count": 139,
     "metadata": {},
     "output_type": "execute_result"
    }
   ],
   "source": [
    "dfnew = pd.DataFrame()\n",
    "dfnew['Model'] = ['DescisionTree','LogisticRegression','KNeighborsClassifier','GaussianNB','RandomForestClassifier','Adaboost model','Xgboost','Gradient Boosting']\n",
    "dfnew['Accuracy'] = [0.9085771737623076,0.8856607960061018,0.9087158507835251,0.8856261267507974,0.9558313687421994,0.937595340452087,0.8828179170711413,0.8960615725974206]\n",
    "dfnew['Precision']=[0.49327354260089684,0.4319682959048877,0.4934272300469484,0.42335456475583866,0.7563951200314837,0.6109049386240365,0.42615412911532097,0.42615412911532097]\n",
    "dfnew['Recall']=[0.8537058595265813,0.8882421420256111,0.8156771439658518,0.7737679472254559, 0.7458284827318588,0.8304229724485837,0.8991074893286768,0.8991074893286768]\n",
    "dfnew"
   ]
  },
  {
   "cell_type": "code",
   "execution_count": 140,
   "id": "22d3b83d",
   "metadata": {},
   "outputs": [
    {
     "data": {
      "image/png": "[encoded data removed]",
      "text/plain": [
       "<Figure size 1440x360 with 1 Axes>"
      ]
     },
     "metadata": {},
     "output_type": "display_data"
    }
   ],
   "source": [
    "plt.figure(figsize=(20,5))\n",
    "sns.set(style=\"whitegrid\")\n",
    "ax = sns.barplot(y ='Accuracy',x = 'Model',data = dfnew)"
   ]
  },
  {
   "cell_type": "markdown",
   "id": "1ca5b002",
   "metadata": {},
   "source": [
    "Here , we can clearly see that RandomForestClassifier has a better accuracy when compared to other algorithms"
   ]
  },
  {
   "cell_type": "markdown",
   "id": "f768a990",
   "metadata": {},
   "source": [
    "With the given health data, we implemented Exploratory Data Analysis, Visualized the data, Machine Learning models\n",
    "\n",
    "and evaluated the model. After pre-processsing the data, then applied various classification algorithms on the data\n",
    "\n",
    "which made it clear that Random Forest Classifier Model performed excellent with high accuracy (95%) compared to other algorithms."
   ]
  },
  {
   "cell_type": "code",
   "execution_count": null,
   "id": "dd1f7f23",
   "metadata": {},
   "outputs": [],
   "source": []
  }
 ],
 "metadata": {
  "kernelspec": {
   "display_name": "Python 3 (ipykernel)",
   "language": "python",
   "name": "python3"
  },
  "language_info": {
   "codemirror_mode": {
    "name": "ipython",
    "version": 3
   },
   "file_extension": ".py",
   "mimetype": "text/x-python",
   "name": "python",
   "nbconvert_exporter": "python",
   "pygments_lexer": "ipython3",
   "version": "3.9.12"
  }
 },
 "nbformat": 4,
 "nbformat_minor": 5
}
